{
  "nbformat": 4,
  "nbformat_minor": 5,
  "metadata": {
    "kernelspec": {
      "display_name": "Python 3 (ipykernel)",
      "language": "python",
      "name": "python3"
    },
    "language_info": {
      "codemirror_mode": {
        "name": "ipython",
        "version": 3
      },
      "file_extension": ".py",
      "mimetype": "text/x-python",
      "name": "python",
      "nbconvert_exporter": "python",
      "pygments_lexer": "ipython3",
      "version": "3.9.7"
    },
    "colab": {
      "name": "test.ipynb",
      "provenance": [],
      "collapsed_sections": [],
      "include_colab_link": true
    }
  },
  "cells": [
    {
      "cell_type": "markdown",
      "metadata": {
        "id": "view-in-github",
        "colab_type": "text"
      },
      "source": [
        "<a href=\"https://colab.research.google.com/github/Shahin-rmz/LSMU_Psycho_dashboard/blob/main/test.ipynb\" target=\"_parent\"><img src=\"https://colab.research.google.com/assets/colab-badge.svg\" alt=\"Open In Colab\"/></a>"
      ]
    },
    {
      "cell_type": "code",
      "metadata": {
        "colab": {
          "base_uri": "https://localhost:8080/"
        },
        "id": "BdiWs_ggho8C",
        "outputId": "bcbca9fc-08c2-4f52-c5d1-1ba6f930e170"
      },
      "source": [
        "!pip install pycountry"
      ],
      "id": "BdiWs_ggho8C",
      "execution_count": null,
      "outputs": [
        {
          "output_type": "stream",
          "name": "stdout",
          "text": [
            "Requirement already satisfied: pycountry in /usr/local/lib/python3.7/dist-packages (20.7.3)\n"
          ]
        }
      ]
    },
    {
      "cell_type": "code",
      "metadata": {
        "colab": {
          "base_uri": "https://localhost:8080/"
        },
        "id": "BlnHKHTUh1nB",
        "outputId": "420389a5-774e-4f06-8c43-6b196a8f21b7"
      },
      "source": [
        "!pip install plotly\n",
        "!pip install pandas"
      ],
      "id": "BlnHKHTUh1nB",
      "execution_count": null,
      "outputs": [
        {
          "output_type": "stream",
          "name": "stdout",
          "text": [
            "Requirement already satisfied: plotly in /usr/local/lib/python3.7/dist-packages (4.4.1)\n",
            "Requirement already satisfied: retrying>=1.3.3 in /usr/local/lib/python3.7/dist-packages (from plotly) (1.3.3)\n",
            "Requirement already satisfied: six in /usr/local/lib/python3.7/dist-packages (from plotly) (1.15.0)\n",
            "Requirement already satisfied: pandas in /usr/local/lib/python3.7/dist-packages (1.1.5)\n",
            "Requirement already satisfied: pytz>=2017.2 in /usr/local/lib/python3.7/dist-packages (from pandas) (2018.9)\n",
            "Requirement already satisfied: numpy>=1.15.4 in /usr/local/lib/python3.7/dist-packages (from pandas) (1.19.5)\n",
            "Requirement already satisfied: python-dateutil>=2.7.3 in /usr/local/lib/python3.7/dist-packages (from pandas) (2.8.2)\n",
            "Requirement already satisfied: six>=1.5 in /usr/local/lib/python3.7/dist-packages (from python-dateutil>=2.7.3->pandas) (1.15.0)\n"
          ]
        }
      ]
    },
    {
      "cell_type": "code",
      "metadata": {
        "id": "766908ff-71a7-4150-8652-ccff6c44bcae"
      },
      "source": [
        "import pycountry\n",
        "import plotly.express as px\n",
        "import pandas as pd\n",
        "import numpy as np"
      ],
      "id": "766908ff-71a7-4150-8652-ccff6c44bcae",
      "execution_count": 181,
      "outputs": []
    },
    {
      "cell_type": "code",
      "metadata": {
        "colab": {
          "base_uri": "https://localhost:8080/",
          "height": 204
        },
        "id": "1019a7ef-fab4-444f-9366-2b6343afdf72",
        "outputId": "c2630e40-e7b4-4744-dce8-9940323e47e7"
      },
      "source": [
        "map_csv = pd.read_csv(\"who_suicide_statistics.csv\")\n",
        "df_map = pd.DataFrame(map_csv)\n",
        "df_map.head()"
      ],
      "id": "1019a7ef-fab4-444f-9366-2b6343afdf72",
      "execution_count": 182,
      "outputs": [
        {
          "output_type": "execute_result",
          "data": {
            "text/html": [
              "<div>\n",
              "<style scoped>\n",
              "    .dataframe tbody tr th:only-of-type {\n",
              "        vertical-align: middle;\n",
              "    }\n",
              "\n",
              "    .dataframe tbody tr th {\n",
              "        vertical-align: top;\n",
              "    }\n",
              "\n",
              "    .dataframe thead th {\n",
              "        text-align: right;\n",
              "    }\n",
              "</style>\n",
              "<table border=\"1\" class=\"dataframe\">\n",
              "  <thead>\n",
              "    <tr style=\"text-align: right;\">\n",
              "      <th></th>\n",
              "      <th>country</th>\n",
              "      <th>year</th>\n",
              "      <th>sex</th>\n",
              "      <th>age</th>\n",
              "      <th>suicides_no</th>\n",
              "      <th>population</th>\n",
              "    </tr>\n",
              "  </thead>\n",
              "  <tbody>\n",
              "    <tr>\n",
              "      <th>0</th>\n",
              "      <td>Albania</td>\n",
              "      <td>1985</td>\n",
              "      <td>female</td>\n",
              "      <td>15-24 years</td>\n",
              "      <td>NaN</td>\n",
              "      <td>277900.0</td>\n",
              "    </tr>\n",
              "    <tr>\n",
              "      <th>1</th>\n",
              "      <td>Albania</td>\n",
              "      <td>1985</td>\n",
              "      <td>female</td>\n",
              "      <td>25-34 years</td>\n",
              "      <td>NaN</td>\n",
              "      <td>246800.0</td>\n",
              "    </tr>\n",
              "    <tr>\n",
              "      <th>2</th>\n",
              "      <td>Albania</td>\n",
              "      <td>1985</td>\n",
              "      <td>female</td>\n",
              "      <td>35-54 years</td>\n",
              "      <td>NaN</td>\n",
              "      <td>267500.0</td>\n",
              "    </tr>\n",
              "    <tr>\n",
              "      <th>3</th>\n",
              "      <td>Albania</td>\n",
              "      <td>1985</td>\n",
              "      <td>female</td>\n",
              "      <td>5-14 years</td>\n",
              "      <td>NaN</td>\n",
              "      <td>298300.0</td>\n",
              "    </tr>\n",
              "    <tr>\n",
              "      <th>4</th>\n",
              "      <td>Albania</td>\n",
              "      <td>1985</td>\n",
              "      <td>female</td>\n",
              "      <td>55-74 years</td>\n",
              "      <td>NaN</td>\n",
              "      <td>138700.0</td>\n",
              "    </tr>\n",
              "  </tbody>\n",
              "</table>\n",
              "</div>"
            ],
            "text/plain": [
              "   country  year     sex          age  suicides_no  population\n",
              "0  Albania  1985  female  15-24 years          NaN    277900.0\n",
              "1  Albania  1985  female  25-34 years          NaN    246800.0\n",
              "2  Albania  1985  female  35-54 years          NaN    267500.0\n",
              "3  Albania  1985  female   5-14 years          NaN    298300.0\n",
              "4  Albania  1985  female  55-74 years          NaN    138700.0"
            ]
          },
          "metadata": {},
          "execution_count": 182
        }
      ]
    },
    {
      "cell_type": "code",
      "metadata": {
        "colab": {
          "base_uri": "https://localhost:8080/",
          "height": 204
        },
        "id": "603df9ed-b331-4a7b-853c-f40ab0db4709",
        "outputId": "a7d65d19-9410-4577-f610-ca86da8aa442"
      },
      "source": [
        "df = px.data.gapminder()\n",
        "df.head()"
      ],
      "id": "603df9ed-b331-4a7b-853c-f40ab0db4709",
      "execution_count": 183,
      "outputs": [
        {
          "output_type": "execute_result",
          "data": {
            "text/html": [
              "<div>\n",
              "<style scoped>\n",
              "    .dataframe tbody tr th:only-of-type {\n",
              "        vertical-align: middle;\n",
              "    }\n",
              "\n",
              "    .dataframe tbody tr th {\n",
              "        vertical-align: top;\n",
              "    }\n",
              "\n",
              "    .dataframe thead th {\n",
              "        text-align: right;\n",
              "    }\n",
              "</style>\n",
              "<table border=\"1\" class=\"dataframe\">\n",
              "  <thead>\n",
              "    <tr style=\"text-align: right;\">\n",
              "      <th></th>\n",
              "      <th>country</th>\n",
              "      <th>continent</th>\n",
              "      <th>year</th>\n",
              "      <th>lifeExp</th>\n",
              "      <th>pop</th>\n",
              "      <th>gdpPercap</th>\n",
              "      <th>iso_alpha</th>\n",
              "      <th>iso_num</th>\n",
              "    </tr>\n",
              "  </thead>\n",
              "  <tbody>\n",
              "    <tr>\n",
              "      <th>0</th>\n",
              "      <td>Afghanistan</td>\n",
              "      <td>Asia</td>\n",
              "      <td>1952</td>\n",
              "      <td>28.801</td>\n",
              "      <td>8425333</td>\n",
              "      <td>779.445314</td>\n",
              "      <td>AFG</td>\n",
              "      <td>4</td>\n",
              "    </tr>\n",
              "    <tr>\n",
              "      <th>1</th>\n",
              "      <td>Afghanistan</td>\n",
              "      <td>Asia</td>\n",
              "      <td>1957</td>\n",
              "      <td>30.332</td>\n",
              "      <td>9240934</td>\n",
              "      <td>820.853030</td>\n",
              "      <td>AFG</td>\n",
              "      <td>4</td>\n",
              "    </tr>\n",
              "    <tr>\n",
              "      <th>2</th>\n",
              "      <td>Afghanistan</td>\n",
              "      <td>Asia</td>\n",
              "      <td>1962</td>\n",
              "      <td>31.997</td>\n",
              "      <td>10267083</td>\n",
              "      <td>853.100710</td>\n",
              "      <td>AFG</td>\n",
              "      <td>4</td>\n",
              "    </tr>\n",
              "    <tr>\n",
              "      <th>3</th>\n",
              "      <td>Afghanistan</td>\n",
              "      <td>Asia</td>\n",
              "      <td>1967</td>\n",
              "      <td>34.020</td>\n",
              "      <td>11537966</td>\n",
              "      <td>836.197138</td>\n",
              "      <td>AFG</td>\n",
              "      <td>4</td>\n",
              "    </tr>\n",
              "    <tr>\n",
              "      <th>4</th>\n",
              "      <td>Afghanistan</td>\n",
              "      <td>Asia</td>\n",
              "      <td>1972</td>\n",
              "      <td>36.088</td>\n",
              "      <td>13079460</td>\n",
              "      <td>739.981106</td>\n",
              "      <td>AFG</td>\n",
              "      <td>4</td>\n",
              "    </tr>\n",
              "  </tbody>\n",
              "</table>\n",
              "</div>"
            ],
            "text/plain": [
              "       country continent  year  ...   gdpPercap  iso_alpha  iso_num\n",
              "0  Afghanistan      Asia  1952  ...  779.445314        AFG        4\n",
              "1  Afghanistan      Asia  1957  ...  820.853030        AFG        4\n",
              "2  Afghanistan      Asia  1962  ...  853.100710        AFG        4\n",
              "3  Afghanistan      Asia  1967  ...  836.197138        AFG        4\n",
              "4  Afghanistan      Asia  1972  ...  739.981106        AFG        4\n",
              "\n",
              "[5 rows x 8 columns]"
            ]
          },
          "metadata": {},
          "execution_count": 183
        }
      ]
    },
    {
      "cell_type": "code",
      "metadata": {
        "colab": {
          "base_uri": "https://localhost:8080/",
          "height": 204
        },
        "id": "fab3f605-24ae-4d79-9ba9-e943a70365de",
        "outputId": "e7762c88-4243-49cb-c0c9-a48b39680352"
      },
      "source": [
        "input_countries = df_map['country'] \n",
        "\n",
        "countries = {}\n",
        "for country in pycountry.countries:\n",
        "    countries[country.name] = country.alpha_3\n",
        "\n",
        "country_codes = [countries.get(country, 'Unknown code') for country in input_countries]\n",
        "df_map['iso_data'] = country_codes\n",
        "df_map.loc[df_map.country=='Iran (Islamic Rep of)','iso_data']='IRN'\n",
        "df_map.loc[df_map.country=='United States of America','iso_data']='USA'\n",
        "df_map.head()"
      ],
      "id": "fab3f605-24ae-4d79-9ba9-e943a70365de",
      "execution_count": 184,
      "outputs": [
        {
          "output_type": "execute_result",
          "data": {
            "text/html": [
              "<div>\n",
              "<style scoped>\n",
              "    .dataframe tbody tr th:only-of-type {\n",
              "        vertical-align: middle;\n",
              "    }\n",
              "\n",
              "    .dataframe tbody tr th {\n",
              "        vertical-align: top;\n",
              "    }\n",
              "\n",
              "    .dataframe thead th {\n",
              "        text-align: right;\n",
              "    }\n",
              "</style>\n",
              "<table border=\"1\" class=\"dataframe\">\n",
              "  <thead>\n",
              "    <tr style=\"text-align: right;\">\n",
              "      <th></th>\n",
              "      <th>country</th>\n",
              "      <th>year</th>\n",
              "      <th>sex</th>\n",
              "      <th>age</th>\n",
              "      <th>suicides_no</th>\n",
              "      <th>population</th>\n",
              "      <th>iso_data</th>\n",
              "    </tr>\n",
              "  </thead>\n",
              "  <tbody>\n",
              "    <tr>\n",
              "      <th>0</th>\n",
              "      <td>Albania</td>\n",
              "      <td>1985</td>\n",
              "      <td>female</td>\n",
              "      <td>15-24 years</td>\n",
              "      <td>NaN</td>\n",
              "      <td>277900.0</td>\n",
              "      <td>ALB</td>\n",
              "    </tr>\n",
              "    <tr>\n",
              "      <th>1</th>\n",
              "      <td>Albania</td>\n",
              "      <td>1985</td>\n",
              "      <td>female</td>\n",
              "      <td>25-34 years</td>\n",
              "      <td>NaN</td>\n",
              "      <td>246800.0</td>\n",
              "      <td>ALB</td>\n",
              "    </tr>\n",
              "    <tr>\n",
              "      <th>2</th>\n",
              "      <td>Albania</td>\n",
              "      <td>1985</td>\n",
              "      <td>female</td>\n",
              "      <td>35-54 years</td>\n",
              "      <td>NaN</td>\n",
              "      <td>267500.0</td>\n",
              "      <td>ALB</td>\n",
              "    </tr>\n",
              "    <tr>\n",
              "      <th>3</th>\n",
              "      <td>Albania</td>\n",
              "      <td>1985</td>\n",
              "      <td>female</td>\n",
              "      <td>5-14 years</td>\n",
              "      <td>NaN</td>\n",
              "      <td>298300.0</td>\n",
              "      <td>ALB</td>\n",
              "    </tr>\n",
              "    <tr>\n",
              "      <th>4</th>\n",
              "      <td>Albania</td>\n",
              "      <td>1985</td>\n",
              "      <td>female</td>\n",
              "      <td>55-74 years</td>\n",
              "      <td>NaN</td>\n",
              "      <td>138700.0</td>\n",
              "      <td>ALB</td>\n",
              "    </tr>\n",
              "  </tbody>\n",
              "</table>\n",
              "</div>"
            ],
            "text/plain": [
              "   country  year     sex          age  suicides_no  population iso_data\n",
              "0  Albania  1985  female  15-24 years          NaN    277900.0      ALB\n",
              "1  Albania  1985  female  25-34 years          NaN    246800.0      ALB\n",
              "2  Albania  1985  female  35-54 years          NaN    267500.0      ALB\n",
              "3  Albania  1985  female   5-14 years          NaN    298300.0      ALB\n",
              "4  Albania  1985  female  55-74 years          NaN    138700.0      ALB"
            ]
          },
          "metadata": {},
          "execution_count": 184
        }
      ]
    },
    {
      "cell_type": "code",
      "metadata": {
        "colab": {
          "base_uri": "https://localhost:8080/",
          "height": 487
        },
        "id": "BrmH7w2g1ZUY",
        "outputId": "4220e78b-3b55-4fdb-91bd-a13ef94f979e"
      },
      "source": [
        "df3 = df_map.query('year==2005').groupby(['country','iso_data'],as_index=False)['suicides_no','population'].sum()\n",
        "df3['proportion']= df3['suicides_no']*1000/df3['population']\n",
        "df3.replace([np.inf, -np.inf],np.nan,inplace=True)\n",
        "df3.dropna().head(100)"
      ],
      "id": "BrmH7w2g1ZUY",
      "execution_count": 199,
      "outputs": [
        {
          "output_type": "stream",
          "name": "stderr",
          "text": [
            "/usr/local/lib/python3.7/dist-packages/ipykernel_launcher.py:1: FutureWarning:\n",
            "\n",
            "Indexing with multiple keys (implicitly converted to a tuple of keys) will be deprecated, use a list instead.\n",
            "\n"
          ]
        },
        {
          "output_type": "execute_result",
          "data": {
            "text/html": [
              "<div>\n",
              "<style scoped>\n",
              "    .dataframe tbody tr th:only-of-type {\n",
              "        vertical-align: middle;\n",
              "    }\n",
              "\n",
              "    .dataframe tbody tr th {\n",
              "        vertical-align: top;\n",
              "    }\n",
              "\n",
              "    .dataframe thead th {\n",
              "        text-align: right;\n",
              "    }\n",
              "</style>\n",
              "<table border=\"1\" class=\"dataframe\">\n",
              "  <thead>\n",
              "    <tr style=\"text-align: right;\">\n",
              "      <th></th>\n",
              "      <th>country</th>\n",
              "      <th>iso_data</th>\n",
              "      <th>suicides_no</th>\n",
              "      <th>population</th>\n",
              "      <th>proportion</th>\n",
              "    </tr>\n",
              "  </thead>\n",
              "  <tbody>\n",
              "    <tr>\n",
              "      <th>0</th>\n",
              "      <td>Albania</td>\n",
              "      <td>ALB</td>\n",
              "      <td>0.0</td>\n",
              "      <td>2783320.0</td>\n",
              "      <td>0.000000</td>\n",
              "    </tr>\n",
              "    <tr>\n",
              "      <th>2</th>\n",
              "      <td>Antigua and Barbuda</td>\n",
              "      <td>ATG</td>\n",
              "      <td>0.0</td>\n",
              "      <td>80809.0</td>\n",
              "      <td>0.000000</td>\n",
              "    </tr>\n",
              "    <tr>\n",
              "      <th>3</th>\n",
              "      <td>Argentina</td>\n",
              "      <td>ARG</td>\n",
              "      <td>3058.0</td>\n",
              "      <td>35550617.0</td>\n",
              "      <td>0.086018</td>\n",
              "    </tr>\n",
              "    <tr>\n",
              "      <th>4</th>\n",
              "      <td>Armenia</td>\n",
              "      <td>ARM</td>\n",
              "      <td>0.0</td>\n",
              "      <td>3037278.0</td>\n",
              "      <td>0.000000</td>\n",
              "    </tr>\n",
              "    <tr>\n",
              "      <th>5</th>\n",
              "      <td>Aruba</td>\n",
              "      <td>ABW</td>\n",
              "      <td>10.0</td>\n",
              "      <td>93728.0</td>\n",
              "      <td>0.106692</td>\n",
              "    </tr>\n",
              "    <tr>\n",
              "      <th>...</th>\n",
              "      <td>...</td>\n",
              "      <td>...</td>\n",
              "      <td>...</td>\n",
              "      <td>...</td>\n",
              "      <td>...</td>\n",
              "    </tr>\n",
              "    <tr>\n",
              "      <th>109</th>\n",
              "      <td>United Kingdom</td>\n",
              "      <td>GBR</td>\n",
              "      <td>4047.0</td>\n",
              "      <td>56809024.0</td>\n",
              "      <td>0.071239</td>\n",
              "    </tr>\n",
              "    <tr>\n",
              "      <th>110</th>\n",
              "      <td>United States of America</td>\n",
              "      <td>USA</td>\n",
              "      <td>32629.0</td>\n",
              "      <td>276106680.0</td>\n",
              "      <td>0.118175</td>\n",
              "    </tr>\n",
              "    <tr>\n",
              "      <th>111</th>\n",
              "      <td>Uruguay</td>\n",
              "      <td>URY</td>\n",
              "      <td>498.0</td>\n",
              "      <td>3070178.0</td>\n",
              "      <td>0.162206</td>\n",
              "    </tr>\n",
              "    <tr>\n",
              "      <th>112</th>\n",
              "      <td>Uzbekistan</td>\n",
              "      <td>UZB</td>\n",
              "      <td>1221.0</td>\n",
              "      <td>23600347.0</td>\n",
              "      <td>0.051737</td>\n",
              "    </tr>\n",
              "    <tr>\n",
              "      <th>113</th>\n",
              "      <td>Venezuela (Bolivarian Republic of)</td>\n",
              "      <td>Unknown code</td>\n",
              "      <td>1016.0</td>\n",
              "      <td>23897676.0</td>\n",
              "      <td>0.042515</td>\n",
              "    </tr>\n",
              "  </tbody>\n",
              "</table>\n",
              "<p>100 rows × 5 columns</p>\n",
              "</div>"
            ],
            "text/plain": [
              "                                country      iso_data  ...   population  proportion\n",
              "0                               Albania           ALB  ...    2783320.0    0.000000\n",
              "2                   Antigua and Barbuda           ATG  ...      80809.0    0.000000\n",
              "3                             Argentina           ARG  ...   35550617.0    0.086018\n",
              "4                               Armenia           ARM  ...    3037278.0    0.000000\n",
              "5                                 Aruba           ABW  ...      93728.0    0.106692\n",
              "..                                  ...           ...  ...          ...         ...\n",
              "109                      United Kingdom           GBR  ...   56809024.0    0.071239\n",
              "110            United States of America           USA  ...  276106680.0    0.118175\n",
              "111                             Uruguay           URY  ...    3070178.0    0.162206\n",
              "112                          Uzbekistan           UZB  ...   23600347.0    0.051737\n",
              "113  Venezuela (Bolivarian Republic of)  Unknown code  ...   23897676.0    0.042515\n",
              "\n",
              "[100 rows x 5 columns]"
            ]
          },
          "metadata": {},
          "execution_count": 199
        }
      ]
    },
    {
      "cell_type": "code",
      "metadata": {
        "colab": {
          "base_uri": "https://localhost:8080/",
          "height": 542
        },
        "id": "93a7b198-ebb5-4871-a304-5ffc50a431e3",
        "outputId": "a0b45bca-32a7-46c0-f440-9d7156781ee0"
      },
      "source": [
        "#df3.query(\"year == 1990\")\n",
        "\n",
        "fig = px.choropleth(df3, locations=\"iso_data\",\n",
        "                    color=\"suicides_no\", # suicides_no is a column of df_map\n",
        "                    hover_name=\"country\", # column to add to hover information\n",
        "                    #range_color= [0,1199],\n",
        "                    color_continuous_scale=px.colors.sequential.Plasma)\n",
        "fig.show()"
      ],
      "id": "93a7b198-ebb5-4871-a304-5ffc50a431e3",
      "execution_count": 200,
      "outputs": [
        {
          "output_type": "display_data",
          "data": {
            "text/html": [
              "<html>\n",
              "<head><meta charset=\"utf-8\" /></head>\n",
              "<body>\n",
              "    <div>\n",
              "            <script src=\"https://cdnjs.cloudflare.com/ajax/libs/mathjax/2.7.5/MathJax.js?config=TeX-AMS-MML_SVG\"></script><script type=\"text/javascript\">if (window.MathJax) {MathJax.Hub.Config({SVG: {font: \"STIX-Web\"}});}</script>\n",
              "                <script type=\"text/javascript\">window.PlotlyConfig = {MathJaxConfig: 'local'};</script>\n",
              "        <script src=\"https://cdn.plot.ly/plotly-latest.min.js\"></script>    \n",
              "            <div id=\"a86e2a03-deb2-4368-8939-ed4128132f29\" class=\"plotly-graph-div\" style=\"height:525px; width:100%;\"></div>\n",
              "            <script type=\"text/javascript\">\n",
              "                \n",
              "                    window.PLOTLYENV=window.PLOTLYENV || {};\n",
              "                    \n",
              "                if (document.getElementById(\"a86e2a03-deb2-4368-8939-ed4128132f29\")) {\n",
              "                    Plotly.newPlot(\n",
              "                        'a86e2a03-deb2-4368-8939-ed4128132f29',\n",
              "                        [{\"coloraxis\": \"coloraxis\", \"geo\": \"geo\", \"hoverlabel\": {\"namelength\": 0}, \"hovertemplate\": \"<b>%{hovertext}</b><br><br>iso_data=%{location}<br>suicides_no=%{z}\", \"hovertext\": [\"Albania\", \"Anguilla\", \"Antigua and Barbuda\", \"Argentina\", \"Armenia\", \"Aruba\", \"Australia\", \"Austria\", \"Azerbaijan\", \"Bahamas\", \"Bahrain\", \"Barbados\", \"Belarus\", \"Belgium\", \"Belize\", \"Bermuda\", \"Brazil\", \"Brunei Darussalam\", \"Bulgaria\", \"Canada\", \"Cayman Islands\", \"Chile\", \"Colombia\", \"Costa Rica\", \"Croatia\", \"Cuba\", \"Cyprus\", \"Czech Republic\", \"Denmark\", \"Dominica\", \"Dominican Republic\", \"Ecuador\", \"Egypt\", \"El Salvador\", \"Estonia\", \"Fiji\", \"Finland\", \"France\", \"French Guiana\", \"Georgia\", \"Germany\", \"Greece\", \"Grenada\", \"Guadeloupe\", \"Guatemala\", \"Guyana\", \"Hong Kong SAR\", \"Hungary\", \"Iceland\", \"Ireland\", \"Israel\", \"Italy\", \"Jamaica\", \"Japan\", \"Kazakhstan\", \"Kuwait\", \"Kyrgyzstan\", \"Latvia\", \"Lithuania\", \"Luxembourg\", \"Malaysia\", \"Maldives\", \"Malta\", \"Martinique\", \"Mauritius\", \"Mexico\", \"Montenegro\", \"Montserrat\", \"Netherlands\", \"New Zealand\", \"Nicaragua\", \"Norway\", \"Panama\", \"Paraguay\", \"Peru\", \"Poland\", \"Portugal\", \"Puerto Rico\", \"Qatar\", \"Republic of Korea\", \"Republic of Moldova\", \"Reunion\", \"Rodrigues\", \"Romania\", \"Russian Federation\", \"Saint Kitts and Nevis\", \"Saint Lucia\", \"Saint Pierre and Miquelon\", \"Saint Vincent and Grenadines\", \"San Marino\", \"Serbia\", \"Seychelles\", \"Singapore\", \"Slovakia\", \"Slovenia\", \"South Africa\", \"Spain\", \"Suriname\", \"Sweden\", \"Switzerland\", \"Syrian Arab Republic\", \"TFYR Macedonia\", \"Tajikistan\", \"Thailand\", \"Trinidad and Tobago\", \"Turkmenistan\", \"Turks and Caicos Islands\", \"Ukraine\", \"United Arab Emirates\", \"United Kingdom\", \"United States of America\", \"Uruguay\", \"Uzbekistan\", \"Venezuela (Bolivarian Republic of)\", \"Virgin Islands (USA)\"], \"locations\": [\"ALB\", \"AIA\", \"ATG\", \"ARG\", \"ARM\", \"ABW\", \"AUS\", \"AUT\", \"AZE\", \"BHS\", \"BHR\", \"BRB\", \"BLR\", \"BEL\", \"BLZ\", \"BMU\", \"BRA\", \"BRN\", \"BGR\", \"CAN\", \"CYM\", \"CHL\", \"COL\", \"CRI\", \"HRV\", \"CUB\", \"CYP\", \"Unknown code\", \"DNK\", \"DMA\", \"DOM\", \"ECU\", \"EGY\", \"SLV\", \"EST\", \"FJI\", \"FIN\", \"FRA\", \"GUF\", \"GEO\", \"DEU\", \"GRC\", \"GRD\", \"GLP\", \"GTM\", \"GUY\", \"Unknown code\", \"HUN\", \"ISL\", \"IRL\", \"ISR\", \"ITA\", \"JAM\", \"JPN\", \"KAZ\", \"KWT\", \"KGZ\", \"LVA\", \"LTU\", \"LUX\", \"MYS\", \"MDV\", \"MLT\", \"MTQ\", \"MUS\", \"MEX\", \"MNE\", \"MSR\", \"NLD\", \"NZL\", \"NIC\", \"NOR\", \"PAN\", \"PRY\", \"PER\", \"POL\", \"PRT\", \"PRI\", \"QAT\", \"Unknown code\", \"Unknown code\", \"Unknown code\", \"Unknown code\", \"ROU\", \"RUS\", \"KNA\", \"LCA\", \"SPM\", \"Unknown code\", \"SMR\", \"SRB\", \"SYC\", \"SGP\", \"SVK\", \"SVN\", \"ZAF\", \"ESP\", \"SUR\", \"SWE\", \"CHE\", \"SYR\", \"Unknown code\", \"TJK\", \"THA\", \"TTO\", \"TKM\", \"TCA\", \"UKR\", \"ARE\", \"GBR\", \"USA\", \"URY\", \"UZB\", \"Unknown code\", \"Unknown code\"], \"name\": \"\", \"type\": \"choropleth\", \"z\": [0.0, 0.0, 0.0, 3058.0, 0.0, 10.0, 0.0, 1399.0, 0.0, 4.0, 42.0, 1.0, 0.0, 2029.0, 12.0, 3.0, 8529.0, 7.0, 982.0, 3743.0, 0.0, 1682.0, 2102.0, 272.0, 874.0, 1397.0, 17.0, 1565.0, 631.0, 1.0, 221.0, 943.0, 52.0, 455.0, 273.0, 22.0, 994.0, 10713.0, 25.0, 87.0, 10270.0, 400.0, 6.0, 46.0, 238.0, 169.0, 1143.0, 2619.0, 33.0, 451.0, 425.0, 3742.0, 51.0, 30369.0, 3903.0, 52.0, 470.0, 564.0, 1319.0, 49.0, 39.0, 1.0, 19.0, 26.0, 102.0, 4274.0, 118.0, 0.0, 1574.0, 514.0, 391.0, 533.0, 172.0, 239.0, 198.0, 6045.0, 0.0, 289.0, 17.0, 12011.0, 631.0, 89.0, 1.0, 2603.0, 45802.0, 1.0, 4.0, 2.0, 8.0, 1.0, 1437.0, 5.0, 359.0, 679.0, 503.0, 458.0, 3399.0, 72.0, 1219.0, 1299.0, 23.0, 143.0, 187.0, 3937.0, 136.0, 468.0, 0.0, 10621.0, 96.0, 4047.0, 32629.0, 498.0, 1221.0, 1016.0, 2.0]}],\n",
              "                        {\"coloraxis\": {\"colorbar\": {\"title\": {\"text\": \"suicides_no\"}}, \"colorscale\": [[0.0, \"#0d0887\"], [0.1111111111111111, \"#46039f\"], [0.2222222222222222, \"#7201a8\"], [0.3333333333333333, \"#9c179e\"], [0.4444444444444444, \"#bd3786\"], [0.5555555555555556, \"#d8576b\"], [0.6666666666666666, \"#ed7953\"], [0.7777777777777778, \"#fb9f3a\"], [0.8888888888888888, \"#fdca26\"], [1.0, \"#f0f921\"]]}, \"geo\": {\"center\": {}, \"domain\": {\"x\": [0.0, 1.0], \"y\": [0.0, 1.0]}}, \"legend\": {\"tracegroupgap\": 0}, \"margin\": {\"t\": 60}, \"template\": {\"data\": {\"bar\": [{\"error_x\": {\"color\": \"#2a3f5f\"}, \"error_y\": {\"color\": \"#2a3f5f\"}, \"marker\": {\"line\": {\"color\": \"#E5ECF6\", \"width\": 0.5}}, \"type\": \"bar\"}], \"barpolar\": [{\"marker\": {\"line\": {\"color\": \"#E5ECF6\", \"width\": 0.5}}, \"type\": \"barpolar\"}], \"carpet\": [{\"aaxis\": {\"endlinecolor\": \"#2a3f5f\", \"gridcolor\": \"white\", \"linecolor\": \"white\", \"minorgridcolor\": \"white\", \"startlinecolor\": \"#2a3f5f\"}, \"baxis\": {\"endlinecolor\": \"#2a3f5f\", \"gridcolor\": \"white\", \"linecolor\": \"white\", \"minorgridcolor\": \"white\", \"startlinecolor\": \"#2a3f5f\"}, \"type\": \"carpet\"}], \"choropleth\": [{\"colorbar\": {\"outlinewidth\": 0, \"ticks\": \"\"}, \"type\": \"choropleth\"}], \"contour\": [{\"colorbar\": {\"outlinewidth\": 0, \"ticks\": \"\"}, \"colorscale\": [[0.0, \"#0d0887\"], [0.1111111111111111, \"#46039f\"], [0.2222222222222222, \"#7201a8\"], [0.3333333333333333, \"#9c179e\"], [0.4444444444444444, \"#bd3786\"], [0.5555555555555556, \"#d8576b\"], [0.6666666666666666, \"#ed7953\"], [0.7777777777777778, \"#fb9f3a\"], [0.8888888888888888, \"#fdca26\"], [1.0, \"#f0f921\"]], \"type\": \"contour\"}], \"contourcarpet\": [{\"colorbar\": {\"outlinewidth\": 0, \"ticks\": \"\"}, \"type\": \"contourcarpet\"}], \"heatmap\": [{\"colorbar\": {\"outlinewidth\": 0, \"ticks\": \"\"}, \"colorscale\": [[0.0, \"#0d0887\"], [0.1111111111111111, \"#46039f\"], [0.2222222222222222, \"#7201a8\"], [0.3333333333333333, \"#9c179e\"], [0.4444444444444444, \"#bd3786\"], [0.5555555555555556, \"#d8576b\"], [0.6666666666666666, \"#ed7953\"], [0.7777777777777778, \"#fb9f3a\"], [0.8888888888888888, \"#fdca26\"], [1.0, \"#f0f921\"]], \"type\": \"heatmap\"}], \"heatmapgl\": [{\"colorbar\": {\"outlinewidth\": 0, \"ticks\": \"\"}, \"colorscale\": [[0.0, \"#0d0887\"], [0.1111111111111111, \"#46039f\"], [0.2222222222222222, \"#7201a8\"], [0.3333333333333333, \"#9c179e\"], [0.4444444444444444, \"#bd3786\"], [0.5555555555555556, \"#d8576b\"], [0.6666666666666666, \"#ed7953\"], [0.7777777777777778, \"#fb9f3a\"], [0.8888888888888888, \"#fdca26\"], [1.0, \"#f0f921\"]], \"type\": \"heatmapgl\"}], \"histogram\": [{\"marker\": {\"colorbar\": {\"outlinewidth\": 0, \"ticks\": \"\"}}, \"type\": \"histogram\"}], \"histogram2d\": [{\"colorbar\": {\"outlinewidth\": 0, \"ticks\": \"\"}, \"colorscale\": [[0.0, \"#0d0887\"], [0.1111111111111111, \"#46039f\"], [0.2222222222222222, \"#7201a8\"], [0.3333333333333333, \"#9c179e\"], [0.4444444444444444, \"#bd3786\"], [0.5555555555555556, \"#d8576b\"], [0.6666666666666666, \"#ed7953\"], [0.7777777777777778, \"#fb9f3a\"], [0.8888888888888888, \"#fdca26\"], [1.0, \"#f0f921\"]], \"type\": \"histogram2d\"}], \"histogram2dcontour\": [{\"colorbar\": {\"outlinewidth\": 0, \"ticks\": \"\"}, \"colorscale\": [[0.0, \"#0d0887\"], [0.1111111111111111, \"#46039f\"], [0.2222222222222222, \"#7201a8\"], [0.3333333333333333, \"#9c179e\"], [0.4444444444444444, \"#bd3786\"], [0.5555555555555556, \"#d8576b\"], [0.6666666666666666, \"#ed7953\"], [0.7777777777777778, \"#fb9f3a\"], [0.8888888888888888, \"#fdca26\"], [1.0, \"#f0f921\"]], \"type\": \"histogram2dcontour\"}], \"mesh3d\": [{\"colorbar\": {\"outlinewidth\": 0, \"ticks\": \"\"}, \"type\": \"mesh3d\"}], \"parcoords\": [{\"line\": {\"colorbar\": {\"outlinewidth\": 0, \"ticks\": \"\"}}, \"type\": \"parcoords\"}], \"pie\": [{\"automargin\": true, \"type\": \"pie\"}], \"scatter\": [{\"marker\": {\"colorbar\": {\"outlinewidth\": 0, \"ticks\": \"\"}}, \"type\": \"scatter\"}], \"scatter3d\": [{\"line\": {\"colorbar\": {\"outlinewidth\": 0, \"ticks\": \"\"}}, \"marker\": {\"colorbar\": {\"outlinewidth\": 0, \"ticks\": \"\"}}, \"type\": \"scatter3d\"}], \"scattercarpet\": [{\"marker\": {\"colorbar\": {\"outlinewidth\": 0, \"ticks\": \"\"}}, \"type\": \"scattercarpet\"}], \"scattergeo\": [{\"marker\": {\"colorbar\": {\"outlinewidth\": 0, \"ticks\": \"\"}}, \"type\": \"scattergeo\"}], \"scattergl\": [{\"marker\": {\"colorbar\": {\"outlinewidth\": 0, \"ticks\": \"\"}}, \"type\": \"scattergl\"}], \"scattermapbox\": [{\"marker\": {\"colorbar\": {\"outlinewidth\": 0, \"ticks\": \"\"}}, \"type\": \"scattermapbox\"}], \"scatterpolar\": [{\"marker\": {\"colorbar\": {\"outlinewidth\": 0, \"ticks\": \"\"}}, \"type\": \"scatterpolar\"}], \"scatterpolargl\": [{\"marker\": {\"colorbar\": {\"outlinewidth\": 0, \"ticks\": \"\"}}, \"type\": \"scatterpolargl\"}], \"scatterternary\": [{\"marker\": {\"colorbar\": {\"outlinewidth\": 0, \"ticks\": \"\"}}, \"type\": \"scatterternary\"}], \"surface\": [{\"colorbar\": {\"outlinewidth\": 0, \"ticks\": \"\"}, \"colorscale\": [[0.0, \"#0d0887\"], [0.1111111111111111, \"#46039f\"], [0.2222222222222222, \"#7201a8\"], [0.3333333333333333, \"#9c179e\"], [0.4444444444444444, \"#bd3786\"], [0.5555555555555556, \"#d8576b\"], [0.6666666666666666, \"#ed7953\"], [0.7777777777777778, \"#fb9f3a\"], [0.8888888888888888, \"#fdca26\"], [1.0, \"#f0f921\"]], \"type\": \"surface\"}], \"table\": [{\"cells\": {\"fill\": {\"color\": \"#EBF0F8\"}, \"line\": {\"color\": \"white\"}}, \"header\": {\"fill\": {\"color\": \"#C8D4E3\"}, \"line\": {\"color\": \"white\"}}, \"type\": \"table\"}]}, \"layout\": {\"annotationdefaults\": {\"arrowcolor\": \"#2a3f5f\", \"arrowhead\": 0, \"arrowwidth\": 1}, \"coloraxis\": {\"colorbar\": {\"outlinewidth\": 0, \"ticks\": \"\"}}, \"colorscale\": {\"diverging\": [[0, \"#8e0152\"], [0.1, \"#c51b7d\"], [0.2, \"#de77ae\"], [0.3, \"#f1b6da\"], [0.4, \"#fde0ef\"], [0.5, \"#f7f7f7\"], [0.6, \"#e6f5d0\"], [0.7, \"#b8e186\"], [0.8, \"#7fbc41\"], [0.9, \"#4d9221\"], [1, \"#276419\"]], \"sequential\": [[0.0, \"#0d0887\"], [0.1111111111111111, \"#46039f\"], [0.2222222222222222, \"#7201a8\"], [0.3333333333333333, \"#9c179e\"], [0.4444444444444444, \"#bd3786\"], [0.5555555555555556, \"#d8576b\"], [0.6666666666666666, \"#ed7953\"], [0.7777777777777778, \"#fb9f3a\"], [0.8888888888888888, \"#fdca26\"], [1.0, \"#f0f921\"]], \"sequentialminus\": [[0.0, \"#0d0887\"], [0.1111111111111111, \"#46039f\"], [0.2222222222222222, \"#7201a8\"], [0.3333333333333333, \"#9c179e\"], [0.4444444444444444, \"#bd3786\"], [0.5555555555555556, \"#d8576b\"], [0.6666666666666666, \"#ed7953\"], [0.7777777777777778, \"#fb9f3a\"], [0.8888888888888888, \"#fdca26\"], [1.0, \"#f0f921\"]]}, \"colorway\": [\"#636efa\", \"#EF553B\", \"#00cc96\", \"#ab63fa\", \"#FFA15A\", \"#19d3f3\", \"#FF6692\", \"#B6E880\", \"#FF97FF\", \"#FECB52\"], \"font\": {\"color\": \"#2a3f5f\"}, \"geo\": {\"bgcolor\": \"white\", \"lakecolor\": \"white\", \"landcolor\": \"#E5ECF6\", \"showlakes\": true, \"showland\": true, \"subunitcolor\": \"white\"}, \"hoverlabel\": {\"align\": \"left\"}, \"hovermode\": \"closest\", \"mapbox\": {\"style\": \"light\"}, \"paper_bgcolor\": \"white\", \"plot_bgcolor\": \"#E5ECF6\", \"polar\": {\"angularaxis\": {\"gridcolor\": \"white\", \"linecolor\": \"white\", \"ticks\": \"\"}, \"bgcolor\": \"#E5ECF6\", \"radialaxis\": {\"gridcolor\": \"white\", \"linecolor\": \"white\", \"ticks\": \"\"}}, \"scene\": {\"xaxis\": {\"backgroundcolor\": \"#E5ECF6\", \"gridcolor\": \"white\", \"gridwidth\": 2, \"linecolor\": \"white\", \"showbackground\": true, \"ticks\": \"\", \"zerolinecolor\": \"white\"}, \"yaxis\": {\"backgroundcolor\": \"#E5ECF6\", \"gridcolor\": \"white\", \"gridwidth\": 2, \"linecolor\": \"white\", \"showbackground\": true, \"ticks\": \"\", \"zerolinecolor\": \"white\"}, \"zaxis\": {\"backgroundcolor\": \"#E5ECF6\", \"gridcolor\": \"white\", \"gridwidth\": 2, \"linecolor\": \"white\", \"showbackground\": true, \"ticks\": \"\", \"zerolinecolor\": \"white\"}}, \"shapedefaults\": {\"line\": {\"color\": \"#2a3f5f\"}}, \"ternary\": {\"aaxis\": {\"gridcolor\": \"white\", \"linecolor\": \"white\", \"ticks\": \"\"}, \"baxis\": {\"gridcolor\": \"white\", \"linecolor\": \"white\", \"ticks\": \"\"}, \"bgcolor\": \"#E5ECF6\", \"caxis\": {\"gridcolor\": \"white\", \"linecolor\": \"white\", \"ticks\": \"\"}}, \"title\": {\"x\": 0.05}, \"xaxis\": {\"automargin\": true, \"gridcolor\": \"white\", \"linecolor\": \"white\", \"ticks\": \"\", \"title\": {\"standoff\": 15}, \"zerolinecolor\": \"white\", \"zerolinewidth\": 2}, \"yaxis\": {\"automargin\": true, \"gridcolor\": \"white\", \"linecolor\": \"white\", \"ticks\": \"\", \"title\": {\"standoff\": 15}, \"zerolinecolor\": \"white\", \"zerolinewidth\": 2}}}},\n",
              "                        {\"responsive\": true}\n",
              "                    ).then(function(){\n",
              "                            \n",
              "var gd = document.getElementById('a86e2a03-deb2-4368-8939-ed4128132f29');\n",
              "var x = new MutationObserver(function (mutations, observer) {{\n",
              "        var display = window.getComputedStyle(gd).display;\n",
              "        if (!display || display === 'none') {{\n",
              "            console.log([gd, 'removed!']);\n",
              "            Plotly.purge(gd);\n",
              "            observer.disconnect();\n",
              "        }}\n",
              "}});\n",
              "\n",
              "// Listen for the removal of the full notebook cells\n",
              "var notebookContainer = gd.closest('#notebook-container');\n",
              "if (notebookContainer) {{\n",
              "    x.observe(notebookContainer, {childList: true});\n",
              "}}\n",
              "\n",
              "// Listen for the clearing of the current output cell\n",
              "var outputEl = gd.closest('.output');\n",
              "if (outputEl) {{\n",
              "    x.observe(outputEl, {childList: true});\n",
              "}}\n",
              "\n",
              "                        })\n",
              "                };\n",
              "                \n",
              "            </script>\n",
              "        </div>\n",
              "</body>\n",
              "</html>"
            ]
          },
          "metadata": {}
        }
      ]
    },
    {
      "cell_type": "code",
      "metadata": {
        "id": "374b5031-780b-4176-9e70-7567d93e06cb",
        "colab": {
          "base_uri": "https://localhost:8080/",
          "height": 542
        },
        "outputId": "fec91373-5038-4ee1-bf53-42ba9770f874"
      },
      "source": [
        "bar_fig= px.bar(df_map.query('year==1991'), x='country', y='suicides_no', color='sex', title='Absolut Bar depend on sex',hover_data=['age'])\n",
        "bar_fig.show()"
      ],
      "id": "374b5031-780b-4176-9e70-7567d93e06cb",
      "execution_count": 201,
      "outputs": [
        {
          "output_type": "display_data",
          "data": {
            "text/html": [
              "<html>\n",
              "<head><meta charset=\"utf-8\" /></head>\n",
              "<body>\n",
              "    <div>\n",
              "            <script src=\"https://cdnjs.cloudflare.com/ajax/libs/mathjax/2.7.5/MathJax.js?config=TeX-AMS-MML_SVG\"></script><script type=\"text/javascript\">if (window.MathJax) {MathJax.Hub.Config({SVG: {font: \"STIX-Web\"}});}</script>\n",
              "                <script type=\"text/javascript\">window.PlotlyConfig = {MathJaxConfig: 'local'};</script>\n",
              "        <script src=\"https://cdn.plot.ly/plotly-latest.min.js\"></script>    \n",
              "            <div id=\"800304b9-5527-4fbe-aae7-1bd5df3c7360\" class=\"plotly-graph-div\" style=\"height:525px; width:100%;\"></div>\n",
              "            <script type=\"text/javascript\">\n",
              "                \n",
              "                    window.PLOTLYENV=window.PLOTLYENV || {};\n",
              "                    \n",
              "                if (document.getElementById(\"800304b9-5527-4fbe-aae7-1bd5df3c7360\")) {\n",
              "                    Plotly.newPlot(\n",
              "                        '800304b9-5527-4fbe-aae7-1bd5df3c7360',\n",
              "                        [{\"alignmentgroup\": \"True\", \"customdata\": [[\"15-24 years\"], [\"25-34 years\"], [\"35-54 years\"], [\"5-14 years\"], [\"55-74 years\"], [\"75+ years\"], [\"15-24 years\"], [\"25-34 years\"], [\"35-54 years\"], [\"5-14 years\"], [\"55-74 years\"], [\"75+ years\"], [\"15-24 years\"], [\"25-34 years\"], [\"35-54 years\"], [\"5-14 years\"], [\"55-74 years\"], [\"75+ years\"], [\"15-24 years\"], [\"25-34 years\"], [\"35-54 years\"], [\"5-14 years\"], [\"55-74 years\"], [\"75+ years\"], [\"15-24 years\"], [\"25-34 years\"], [\"35-54 years\"], [\"5-14 years\"], [\"55-74 years\"], [\"75+ years\"], [\"15-24 years\"], [\"25-34 years\"], [\"35-54 years\"], [\"5-14 years\"], [\"55-74 years\"], [\"75+ years\"], [\"15-24 years\"], [\"25-34 years\"], [\"35-54 years\"], [\"5-14 years\"], [\"55-74 years\"], [\"75+ years\"], [\"15-24 years\"], [\"25-34 years\"], [\"35-54 years\"], [\"5-14 years\"], [\"55-74 years\"], [\"75+ years\"], [\"15-24 years\"], [\"25-34 years\"], [\"35-54 years\"], [\"5-14 years\"], [\"55-74 years\"], [\"75+ years\"], [\"15-24 years\"], [\"25-34 years\"], [\"35-54 years\"], [\"5-14 years\"], [\"55-74 years\"], [\"75+ years\"], [\"15-24 years\"], [\"25-34 years\"], [\"35-54 years\"], [\"5-14 years\"], [\"55-74 years\"], [\"75+ years\"], [\"15-24 years\"], [\"25-34 years\"], [\"35-54 years\"], [\"5-14 years\"], [\"55-74 years\"], [\"75+ years\"], [\"15-24 years\"], [\"25-34 years\"], [\"35-54 years\"], [\"5-14 years\"], [\"55-74 years\"], [\"75+ years\"], [\"15-24 years\"], [\"25-34 years\"], [\"35-54 years\"], [\"5-14 years\"], [\"55-74 years\"], [\"75+ years\"], [\"15-24 years\"], [\"25-34 years\"], [\"35-54 years\"], [\"5-14 years\"], [\"55-74 years\"], [\"75+ years\"], [\"15-24 years\"], [\"25-34 years\"], [\"35-54 years\"], [\"5-14 years\"], [\"55-74 years\"], [\"75+ years\"], [\"15-24 years\"], [\"25-34 years\"], [\"35-54 years\"], [\"5-14 years\"], [\"55-74 years\"], [\"75+ years\"], [\"15-24 years\"], [\"25-34 years\"], [\"35-54 years\"], [\"5-14 years\"], [\"55-74 years\"], [\"75+ years\"], [\"15-24 years\"], [\"25-34 years\"], [\"35-54 years\"], [\"5-14 years\"], [\"55-74 years\"], [\"75+ years\"], [\"15-24 years\"], [\"25-34 years\"], [\"35-54 years\"], [\"5-14 years\"], [\"55-74 years\"], [\"75+ years\"], [\"15-24 years\"], [\"25-34 years\"], [\"35-54 years\"], [\"5-14 years\"], [\"55-74 years\"], [\"75+ years\"], [\"15-24 years\"], [\"25-34 years\"], [\"35-54 years\"], [\"5-14 years\"], [\"55-74 years\"], [\"75+ years\"], [\"15-24 years\"], [\"25-34 years\"], [\"35-54 years\"], [\"5-14 years\"], [\"55-74 years\"], [\"75+ years\"], [\"15-24 years\"], [\"25-34 years\"], [\"35-54 years\"], [\"5-14 years\"], [\"55-74 years\"], [\"75+ years\"], [\"15-24 years\"], [\"25-34 years\"], [\"35-54 years\"], [\"5-14 years\"], [\"55-74 years\"], [\"75+ years\"], [\"15-24 years\"], [\"25-34 years\"], [\"35-54 years\"], [\"5-14 years\"], [\"55-74 years\"], [\"75+ years\"], [\"15-24 years\"], [\"25-34 years\"], [\"35-54 years\"], [\"5-14 years\"], [\"55-74 years\"], [\"75+ years\"], [\"15-24 years\"], [\"25-34 years\"], [\"35-54 years\"], [\"5-14 years\"], [\"55-74 years\"], [\"75+ years\"], [\"15-24 years\"], [\"25-34 years\"], [\"35-54 years\"], [\"5-14 years\"], [\"55-74 years\"], [\"75+ years\"], [\"15-24 years\"], [\"25-34 years\"], [\"35-54 years\"], [\"5-14 years\"], [\"55-74 years\"], [\"75+ years\"], [\"15-24 years\"], [\"25-34 years\"], [\"35-54 years\"], [\"5-14 years\"], [\"55-74 years\"], [\"75+ years\"], [\"15-24 years\"], [\"25-34 years\"], [\"35-54 years\"], [\"5-14 years\"], [\"55-74 years\"], [\"75+ years\"], [\"15-24 years\"], [\"25-34 years\"], [\"35-54 years\"], [\"5-14 years\"], [\"55-74 years\"], [\"75+ years\"], [\"15-24 years\"], [\"25-34 years\"], [\"35-54 years\"], [\"5-14 years\"], [\"55-74 years\"], [\"75+ years\"], [\"15-24 years\"], [\"25-34 years\"], [\"35-54 years\"], [\"5-14 years\"], [\"55-74 years\"], [\"75+ years\"], [\"15-24 years\"], [\"25-34 years\"], [\"35-54 years\"], [\"5-14 years\"], [\"55-74 years\"], [\"75+ years\"], [\"15-24 years\"], [\"25-34 years\"], [\"35-54 years\"], [\"5-14 years\"], [\"55-74 years\"], [\"75+ years\"], [\"15-24 years\"], [\"25-34 years\"], [\"35-54 years\"], [\"5-14 years\"], [\"55-74 years\"], [\"75+ years\"], [\"15-24 years\"], [\"25-34 years\"], [\"35-54 years\"], [\"5-14 years\"], [\"55-74 years\"], [\"75+ years\"], [\"15-24 years\"], [\"25-34 years\"], [\"35-54 years\"], [\"5-14 years\"], [\"55-74 years\"], [\"75+ years\"], [\"15-24 years\"], [\"25-34 years\"], [\"35-54 years\"], [\"5-14 years\"], [\"55-74 years\"], [\"75+ years\"], [\"15-24 years\"], [\"25-34 years\"], [\"35-54 years\"], [\"5-14 years\"], [\"55-74 years\"], [\"75+ years\"], [\"15-24 years\"], [\"25-34 years\"], [\"35-54 years\"], [\"5-14 years\"], [\"55-74 years\"], [\"75+ years\"], [\"15-24 years\"], [\"25-34 years\"], [\"35-54 years\"], [\"5-14 years\"], [\"55-74 years\"], [\"75+ years\"], [\"15-24 years\"], [\"25-34 years\"], [\"35-54 years\"], [\"5-14 years\"], [\"55-74 years\"], [\"75+ years\"], [\"15-24 years\"], [\"25-34 years\"], [\"35-54 years\"], [\"5-14 years\"], [\"55-74 years\"], [\"75+ years\"], [\"15-24 years\"], [\"25-34 years\"], [\"35-54 years\"], [\"5-14 years\"], [\"55-74 years\"], [\"75+ years\"], [\"15-24 years\"], [\"25-34 years\"], [\"35-54 years\"], [\"5-14 years\"], [\"55-74 years\"], [\"75+ years\"], [\"15-24 years\"], [\"25-34 years\"], [\"35-54 years\"], [\"5-14 years\"], [\"55-74 years\"], [\"75+ years\"], [\"15-24 years\"], [\"25-34 years\"], [\"35-54 years\"], [\"5-14 years\"], [\"55-74 years\"], [\"75+ years\"], [\"15-24 years\"], [\"25-34 years\"], [\"35-54 years\"], [\"5-14 years\"], [\"55-74 years\"], [\"75+ years\"], [\"15-24 years\"], [\"25-34 years\"], [\"35-54 years\"], [\"5-14 years\"], [\"55-74 years\"], [\"75+ years\"], [\"15-24 years\"], [\"25-34 years\"], [\"35-54 years\"], [\"5-14 years\"], [\"55-74 years\"], [\"75+ years\"], [\"15-24 years\"], [\"25-34 years\"], [\"35-54 years\"], [\"5-14 years\"], [\"55-74 years\"], [\"75+ years\"], [\"15-24 years\"], [\"25-34 years\"], [\"35-54 years\"], [\"5-14 years\"], [\"55-74 years\"], [\"75+ years\"], [\"15-24 years\"], [\"25-34 years\"], [\"35-54 years\"], [\"5-14 years\"], [\"55-74 years\"], [\"75+ years\"], [\"15-24 years\"], [\"25-34 years\"], [\"35-54 years\"], [\"5-14 years\"], [\"55-74 years\"], [\"75+ years\"], [\"15-24 years\"], [\"25-34 years\"], [\"35-54 years\"], [\"5-14 years\"], [\"55-74 years\"], [\"75+ years\"], [\"15-24 years\"], [\"25-34 years\"], [\"35-54 years\"], [\"5-14 years\"], [\"55-74 years\"], [\"75+ years\"], [\"15-24 years\"], [\"25-34 years\"], [\"35-54 years\"], [\"5-14 years\"], [\"55-74 years\"], [\"75+ years\"], [\"15-24 years\"], [\"25-34 years\"], [\"35-54 years\"], [\"5-14 years\"], [\"55-74 years\"], [\"75+ years\"], [\"15-24 years\"], [\"25-34 years\"], [\"35-54 years\"], [\"5-14 years\"], [\"55-74 years\"], [\"75+ years\"], [\"15-24 years\"], [\"25-34 years\"], [\"35-54 years\"], [\"5-14 years\"], [\"55-74 years\"], [\"75+ years\"], [\"15-24 years\"], [\"25-34 years\"], [\"35-54 years\"], [\"5-14 years\"], [\"55-74 years\"], [\"75+ years\"], [\"15-24 years\"], [\"25-34 years\"], [\"35-54 years\"], [\"5-14 years\"], [\"55-74 years\"], [\"75+ years\"], [\"15-24 years\"], [\"25-34 years\"], [\"35-54 years\"], [\"5-14 years\"], [\"55-74 years\"], [\"75+ years\"], [\"15-24 years\"], [\"25-34 years\"], [\"35-54 years\"], [\"5-14 years\"], [\"55-74 years\"], [\"75+ years\"], [\"15-24 years\"], [\"25-34 years\"], [\"35-54 years\"], [\"5-14 years\"], [\"55-74 years\"], [\"75+ years\"], [\"15-24 years\"], [\"25-34 years\"], [\"35-54 years\"], [\"5-14 years\"], [\"55-74 years\"], [\"75+ years\"], [\"15-24 years\"], [\"25-34 years\"], [\"35-54 years\"], [\"5-14 years\"], [\"55-74 years\"], [\"75+ years\"], [\"15-24 years\"], [\"25-34 years\"], [\"35-54 years\"], [\"5-14 years\"], [\"55-74 years\"], [\"75+ years\"], [\"15-24 years\"], [\"25-34 years\"], [\"35-54 years\"], [\"5-14 years\"], [\"55-74 years\"], [\"75+ years\"], [\"15-24 years\"], [\"25-34 years\"], [\"35-54 years\"], [\"5-14 years\"], [\"55-74 years\"], [\"75+ years\"], [\"15-24 years\"], [\"25-34 years\"], [\"35-54 years\"], [\"5-14 years\"], [\"55-74 years\"], [\"75+ years\"], [\"15-24 years\"], [\"25-34 years\"], [\"35-54 years\"], [\"5-14 years\"], [\"55-74 years\"], [\"75+ years\"], [\"15-24 years\"], [\"25-34 years\"], [\"35-54 years\"], [\"5-14 years\"], [\"55-74 years\"], [\"75+ years\"], [\"15-24 years\"], [\"25-34 years\"], [\"35-54 years\"], [\"5-14 years\"], [\"55-74 years\"], [\"75+ years\"], [\"15-24 years\"], [\"25-34 years\"], [\"35-54 years\"], [\"5-14 years\"], [\"55-74 years\"], [\"75+ years\"], [\"15-24 years\"], [\"25-34 years\"], [\"35-54 years\"], [\"5-14 years\"], [\"55-74 years\"], [\"75+ years\"], [\"15-24 years\"], [\"25-34 years\"], [\"35-54 years\"], [\"5-14 years\"], [\"55-74 years\"], [\"75+ years\"], [\"15-24 years\"], [\"25-34 years\"], [\"35-54 years\"], [\"5-14 years\"], [\"55-74 years\"], [\"75+ years\"], [\"15-24 years\"], [\"25-34 years\"], [\"35-54 years\"], [\"5-14 years\"], [\"55-74 years\"], [\"75+ years\"], [\"15-24 years\"], [\"25-34 years\"], [\"35-54 years\"], [\"5-14 years\"], [\"55-74 years\"], [\"75+ years\"], [\"15-24 years\"], [\"25-34 years\"], [\"35-54 years\"], [\"5-14 years\"], [\"55-74 years\"], [\"75+ years\"], [\"15-24 years\"], [\"25-34 years\"], [\"35-54 years\"], [\"5-14 years\"], [\"55-74 years\"], [\"75+ years\"], [\"15-24 years\"], [\"25-34 years\"], [\"35-54 years\"], [\"5-14 years\"], [\"55-74 years\"], [\"75+ years\"], [\"15-24 years\"], [\"25-34 years\"], [\"35-54 years\"], [\"5-14 years\"], [\"55-74 years\"], [\"75+ years\"], [\"15-24 years\"], [\"25-34 years\"], [\"35-54 years\"], [\"5-14 years\"], [\"55-74 years\"], [\"75+ years\"], [\"15-24 years\"], [\"25-34 years\"], [\"35-54 years\"], [\"5-14 years\"], [\"55-74 years\"], [\"75+ years\"], [\"15-24 years\"], [\"25-34 years\"], [\"35-54 years\"], [\"5-14 years\"], [\"55-74 years\"], [\"75+ years\"], [\"15-24 years\"], [\"25-34 years\"], [\"35-54 years\"], [\"5-14 years\"], [\"55-74 years\"], [\"75+ years\"]], \"hoverlabel\": {\"namelength\": 0}, \"hovertemplate\": \"sex=female<br>country=%{x}<br>suicides_no=%{y}<br>age=%{customdata[0]}\", \"legendgroup\": \"sex=female\", \"marker\": {\"color\": \"#636efa\"}, \"name\": \"sex=female\", \"offsetgroup\": \"sex=female\", \"orientation\": \"v\", \"showlegend\": true, \"textposition\": \"auto\", \"type\": \"bar\", \"x\": [\"Albania\", \"Albania\", \"Albania\", \"Albania\", \"Albania\", \"Albania\", \"Anguilla\", \"Anguilla\", \"Anguilla\", \"Anguilla\", \"Anguilla\", \"Anguilla\", \"Antigua and Barbuda\", \"Antigua and Barbuda\", \"Antigua and Barbuda\", \"Antigua and Barbuda\", \"Antigua and Barbuda\", \"Antigua and Barbuda\", \"Argentina\", \"Argentina\", \"Argentina\", \"Argentina\", \"Argentina\", \"Argentina\", \"Armenia\", \"Armenia\", \"Armenia\", \"Armenia\", \"Armenia\", \"Armenia\", \"Australia\", \"Australia\", \"Australia\", \"Australia\", \"Australia\", \"Australia\", \"Austria\", \"Austria\", \"Austria\", \"Austria\", \"Austria\", \"Austria\", \"Azerbaijan\", \"Azerbaijan\", \"Azerbaijan\", \"Azerbaijan\", \"Azerbaijan\", \"Azerbaijan\", \"Barbados\", \"Barbados\", \"Barbados\", \"Barbados\", \"Barbados\", \"Barbados\", \"Belarus\", \"Belarus\", \"Belarus\", \"Belarus\", \"Belarus\", \"Belarus\", \"Belgium\", \"Belgium\", \"Belgium\", \"Belgium\", \"Belgium\", \"Belgium\", \"Belize\", \"Belize\", \"Belize\", \"Belize\", \"Belize\", \"Belize\", \"Bermuda\", \"Bermuda\", \"Bermuda\", \"Bermuda\", \"Bermuda\", \"Bermuda\", \"Bosnia and Herzegovina\", \"Bosnia and Herzegovina\", \"Bosnia and Herzegovina\", \"Bosnia and Herzegovina\", \"Bosnia and Herzegovina\", \"Bosnia and Herzegovina\", \"Brazil\", \"Brazil\", \"Brazil\", \"Brazil\", \"Brazil\", \"Brazil\", \"British Virgin Islands\", \"British Virgin Islands\", \"British Virgin Islands\", \"British Virgin Islands\", \"British Virgin Islands\", \"British Virgin Islands\", \"Bulgaria\", \"Bulgaria\", \"Bulgaria\", \"Bulgaria\", \"Bulgaria\", \"Bulgaria\", \"Canada\", \"Canada\", \"Canada\", \"Canada\", \"Canada\", \"Canada\", \"Cayman Islands\", \"Cayman Islands\", \"Cayman Islands\", \"Cayman Islands\", \"Cayman Islands\", \"Cayman Islands\", \"Chile\", \"Chile\", \"Chile\", \"Chile\", \"Chile\", \"Chile\", \"Colombia\", \"Colombia\", \"Colombia\", \"Colombia\", \"Colombia\", \"Colombia\", \"Costa Rica\", \"Costa Rica\", \"Costa Rica\", \"Costa Rica\", \"Costa Rica\", \"Costa Rica\", \"Croatia\", \"Croatia\", \"Croatia\", \"Croatia\", \"Croatia\", \"Croatia\", \"Cuba\", \"Cuba\", \"Cuba\", \"Cuba\", \"Cuba\", \"Cuba\", \"Czech Republic\", \"Czech Republic\", \"Czech Republic\", \"Czech Republic\", \"Czech Republic\", \"Czech Republic\", \"Denmark\", \"Denmark\", \"Denmark\", \"Denmark\", \"Denmark\", \"Denmark\", \"Dominica\", \"Dominica\", \"Dominica\", \"Dominica\", \"Dominica\", \"Dominica\", \"Dominican Republic\", \"Dominican Republic\", \"Dominican Republic\", \"Dominican Republic\", \"Dominican Republic\", \"Dominican Republic\", \"Ecuador\", \"Ecuador\", \"Ecuador\", \"Ecuador\", \"Ecuador\", \"Ecuador\", \"Egypt\", \"Egypt\", \"Egypt\", \"Egypt\", \"Egypt\", \"Egypt\", \"El Salvador\", \"El Salvador\", \"El Salvador\", \"El Salvador\", \"El Salvador\", \"El Salvador\", \"Estonia\", \"Estonia\", \"Estonia\", \"Estonia\", \"Estonia\", \"Estonia\", \"Finland\", \"Finland\", \"Finland\", \"Finland\", \"Finland\", \"Finland\", \"France\", \"France\", \"France\", \"France\", \"France\", \"France\", \"Georgia\", \"Georgia\", \"Georgia\", \"Georgia\", \"Georgia\", \"Georgia\", \"Germany\", \"Germany\", \"Germany\", \"Germany\", \"Germany\", \"Germany\", \"Greece\", \"Greece\", \"Greece\", \"Greece\", \"Greece\", \"Greece\", \"Grenada\", \"Grenada\", \"Grenada\", \"Grenada\", \"Grenada\", \"Grenada\", \"Guatemala\", \"Guatemala\", \"Guatemala\", \"Guatemala\", \"Guatemala\", \"Guatemala\", \"Guyana\", \"Guyana\", \"Guyana\", \"Guyana\", \"Guyana\", \"Guyana\", \"Hong Kong SAR\", \"Hong Kong SAR\", \"Hong Kong SAR\", \"Hong Kong SAR\", \"Hong Kong SAR\", \"Hong Kong SAR\", \"Hungary\", \"Hungary\", \"Hungary\", \"Hungary\", \"Hungary\", \"Hungary\", \"Iceland\", \"Iceland\", \"Iceland\", \"Iceland\", \"Iceland\", \"Iceland\", \"Ireland\", \"Ireland\", \"Ireland\", \"Ireland\", \"Ireland\", \"Ireland\", \"Israel\", \"Israel\", \"Israel\", \"Israel\", \"Israel\", \"Israel\", \"Italy\", \"Italy\", \"Italy\", \"Italy\", \"Italy\", \"Italy\", \"Jamaica\", \"Jamaica\", \"Jamaica\", \"Jamaica\", \"Jamaica\", \"Jamaica\", \"Japan\", \"Japan\", \"Japan\", \"Japan\", \"Japan\", \"Japan\", \"Kazakhstan\", \"Kazakhstan\", \"Kazakhstan\", \"Kazakhstan\", \"Kazakhstan\", \"Kazakhstan\", \"Kiribati\", \"Kiribati\", \"Kiribati\", \"Kiribati\", \"Kiribati\", \"Kiribati\", \"Kyrgyzstan\", \"Kyrgyzstan\", \"Kyrgyzstan\", \"Kyrgyzstan\", \"Kyrgyzstan\", \"Kyrgyzstan\", \"Latvia\", \"Latvia\", \"Latvia\", \"Latvia\", \"Latvia\", \"Latvia\", \"Lithuania\", \"Lithuania\", \"Lithuania\", \"Lithuania\", \"Lithuania\", \"Lithuania\", \"Luxembourg\", \"Luxembourg\", \"Luxembourg\", \"Luxembourg\", \"Luxembourg\", \"Luxembourg\", \"Malta\", \"Malta\", \"Malta\", \"Malta\", \"Malta\", \"Malta\", \"Mauritius\", \"Mauritius\", \"Mauritius\", \"Mauritius\", \"Mauritius\", \"Mauritius\", \"Mexico\", \"Mexico\", \"Mexico\", \"Mexico\", \"Mexico\", \"Mexico\", \"Montserrat\", \"Montserrat\", \"Montserrat\", \"Montserrat\", \"Montserrat\", \"Montserrat\", \"Netherlands\", \"Netherlands\", \"Netherlands\", \"Netherlands\", \"Netherlands\", \"Netherlands\", \"Netherlands Antilles\", \"Netherlands Antilles\", \"Netherlands Antilles\", \"Netherlands Antilles\", \"Netherlands Antilles\", \"Netherlands Antilles\", \"New Zealand\", \"New Zealand\", \"New Zealand\", \"New Zealand\", \"New Zealand\", \"New Zealand\", \"Nicaragua\", \"Nicaragua\", \"Nicaragua\", \"Nicaragua\", \"Nicaragua\", \"Nicaragua\", \"Norway\", \"Norway\", \"Norway\", \"Norway\", \"Norway\", \"Norway\", \"Paraguay\", \"Paraguay\", \"Paraguay\", \"Paraguay\", \"Paraguay\", \"Paraguay\", \"Peru\", \"Peru\", \"Peru\", \"Peru\", \"Peru\", \"Peru\", \"Poland\", \"Poland\", \"Poland\", \"Poland\", \"Poland\", \"Poland\", \"Portugal\", \"Portugal\", \"Portugal\", \"Portugal\", \"Portugal\", \"Portugal\", \"Puerto Rico\", \"Puerto Rico\", \"Puerto Rico\", \"Puerto Rico\", \"Puerto Rico\", \"Puerto Rico\", \"Republic of Korea\", \"Republic of Korea\", \"Republic of Korea\", \"Republic of Korea\", \"Republic of Korea\", \"Republic of Korea\", \"Republic of Moldova\", \"Republic of Moldova\", \"Republic of Moldova\", \"Republic of Moldova\", \"Republic of Moldova\", \"Republic of Moldova\", \"Romania\", \"Romania\", \"Romania\", \"Romania\", \"Romania\", \"Romania\", \"Russian Federation\", \"Russian Federation\", \"Russian Federation\", \"Russian Federation\", \"Russian Federation\", \"Russian Federation\", \"Saint Kitts and Nevis\", \"Saint Kitts and Nevis\", \"Saint Kitts and Nevis\", \"Saint Kitts and Nevis\", \"Saint Kitts and Nevis\", \"Saint Kitts and Nevis\", \"Saint Lucia\", \"Saint Lucia\", \"Saint Lucia\", \"Saint Lucia\", \"Saint Lucia\", \"Saint Lucia\", \"Singapore\", \"Singapore\", \"Singapore\", \"Singapore\", \"Singapore\", \"Singapore\", \"Slovakia\", \"Slovakia\", \"Slovakia\", \"Slovakia\", \"Slovakia\", \"Slovakia\", \"Slovenia\", \"Slovenia\", \"Slovenia\", \"Slovenia\", \"Slovenia\", \"Slovenia\", \"Spain\", \"Spain\", \"Spain\", \"Spain\", \"Spain\", \"Spain\", \"Suriname\", \"Suriname\", \"Suriname\", \"Suriname\", \"Suriname\", \"Suriname\", \"Sweden\", \"Sweden\", \"Sweden\", \"Sweden\", \"Sweden\", \"Sweden\", \"Switzerland\", \"Switzerland\", \"Switzerland\", \"Switzerland\", \"Switzerland\", \"Switzerland\", \"TFYR Macedonia\", \"TFYR Macedonia\", \"TFYR Macedonia\", \"TFYR Macedonia\", \"TFYR Macedonia\", \"TFYR Macedonia\", \"Tajikistan\", \"Tajikistan\", \"Tajikistan\", \"Tajikistan\", \"Tajikistan\", \"Tajikistan\", \"Thailand\", \"Thailand\", \"Thailand\", \"Thailand\", \"Thailand\", \"Thailand\", \"Trinidad and Tobago\", \"Trinidad and Tobago\", \"Trinidad and Tobago\", \"Trinidad and Tobago\", \"Trinidad and Tobago\", \"Trinidad and Tobago\", \"Turkmenistan\", \"Turkmenistan\", \"Turkmenistan\", \"Turkmenistan\", \"Turkmenistan\", \"Turkmenistan\", \"Turks and Caicos Islands\", \"Turks and Caicos Islands\", \"Turks and Caicos Islands\", \"Turks and Caicos Islands\", \"Turks and Caicos Islands\", \"Turks and Caicos Islands\", \"Ukraine\", \"Ukraine\", \"Ukraine\", \"Ukraine\", \"Ukraine\", \"Ukraine\", \"United Kingdom\", \"United Kingdom\", \"United Kingdom\", \"United Kingdom\", \"United Kingdom\", \"United Kingdom\", \"United States of America\", \"United States of America\", \"United States of America\", \"United States of America\", \"United States of America\", \"United States of America\", \"Uzbekistan\", \"Uzbekistan\", \"Uzbekistan\", \"Uzbekistan\", \"Uzbekistan\", \"Uzbekistan\"], \"xaxis\": \"x\", \"y\": [null, null, null, null, null, null, 0.0, 0.0, 0.0, 0.0, 0.0, 0.0, 0.0, 0.0, 0.0, 0.0, 0.0, 0.0, 61.0, 77.0, 133.0, 9.0, 169.0, 50.0, 0.0, 4.0, 9.0, 0.0, 11.0, 2.0, 84.0, 91.0, 169.0, 3.0, 96.0, 39.0, 34.0, 49.0, 145.0, 0.0, 144.0, 98.0, 8.0, 6.0, 11.0, 1.0, 5.0, 1.0, 0.0, 1.0, 0.0, 0.0, 3.0, 0.0, 30.0, 42.0, 121.0, 2.0, 175.0, 72.0, 23.0, 71.0, 184.0, 1.0, 172.0, 76.0, 0.0, 0.0, 0.0, 0.0, 0.0, 0.0, 0.0, 0.0, 0.0, 0.0, 0.0, 0.0, 16.0, 11.0, 20.0, 4.0, 16.0, 7.0, 303.0, 266.0, 331.0, 35.0, 222.0, 38.0, 0.0, 0.0, 0.0, 0.0, 0.0, 0.0, 23.0, 23.0, 69.0, 6.0, 188.0, 74.0, 76.0, 177.0, 271.0, 9.0, 154.0, 31.0, 0.0, 0.0, 0.0, 0.0, 0.0, 0.0, 34.0, 29.0, 42.0, 7.0, 16.0, 5.0, 100.0, 54.0, 36.0, 9.0, 10.0, 3.0, 10.0, 3.0, 6.0, 0.0, 0.0, 0.0, 11.0, 30.0, 77.0, 4.0, 153.0, 51.0, null, null, null, null, null, null, 33.0, 45.0, 157.0, 1.0, 171.0, 104.0, null, null, null, null, null, null, 0.0, 0.0, 0.0, 0.0, 0.0, 0.0, 12.0, 6.0, 5.0, 1.0, 3.0, 0.0, 117.0, 35.0, 18.0, 9.0, 9.0, 1.0, null, null, null, null, null, null, 97.0, 28.0, 17.0, 8.0, 3.0, 1.0, 7.0, 7.0, 31.0, 0.0, 41.0, 22.0, 23.0, 39.0, 134.0, 0.0, 82.0, 25.0, 167.0, 366.0, 1058.0, 4.0, 1041.0, 645.0, 4.0, 4.0, 15.0, 1.0, 19.0, 8.0, 185.0, 411.0, 1200.0, 5.0, 1400.0, 1153.0, 5.0, 10.0, 28.0, 0.0, 26.0, 15.0, 0.0, 0.0, 0.0, 0.0, 0.0, 0.0, 15.0, 6.0, 7.0, 0.0, 4.0, 0.0, 20.0, 3.0, 4.0, 0.0, 2.0, 0.0, 24.0, 63.0, 63.0, 2.0, 80.0, 57.0, 40.0, 85.0, 341.0, 2.0, 382.0, 263.0, 1.0, 0.0, 3.0, 1.0, 3.0, 0.0, 4.0, 15.0, 23.0, 0.0, 19.0, 2.0, 9.0, 9.0, 27.0, 0.0, 32.0, 20.0, 70.0, 142.0, 336.0, 2.0, 466.0, 231.0, 0.0, 0.0, 0.0, 0.0, 0.0, 0.0, 442.0, 637.0, 2039.0, 14.0, 2561.0, 1687.0, 139.0, 104.0, 185.0, 11.0, 166.0, 91.0, 1.0, 1.0, 0.0, 0.0, 0.0, 0.0, 36.0, 16.0, 26.0, 3.0, 38.0, 14.0, 11.0, 17.0, 59.0, 0.0, 58.0, 34.0, 22.0, 24.0, 81.0, 1.0, 69.0, 24.0, 0.0, 1.0, 12.0, 0.0, 9.0, 1.0, 0.0, 0.0, 1.0, 0.0, 0.0, 0.0, 15.0, 11.0, 9.0, 3.0, 5.0, 0.0, 113.0, 72.0, 75.0, 18.0, 28.0, 8.0, 0.0, 0.0, 0.0, 0.0, 0.0, 0.0, 40.0, 107.0, 190.0, 0.0, 179.0, 62.0, 0.0, 0.0, 0.0, 0.0, 0.0, 0.0, 16.0, 19.0, 40.0, 0.0, 18.0, 1.0, 17.0, 4.0, 6.0, 4.0, 2.0, 0.0, 14.0, 25.0, 57.0, 1.0, 60.0, 19.0, 13.0, 4.0, 4.0, 4.0, 2.0, 0.0, 12.0, 3.0, 3.0, 2.0, 2.0, 0.0, 64.0, 114.0, 358.0, 8.0, 267.0, 57.0, 17.0, 29.0, 63.0, 3.0, 86.0, 36.0, 2.0, 7.0, 17.0, 0.0, 8.0, 2.0, 201.0, 247.0, 256.0, 16.0, 154.0, 56.0, 19.0, 27.0, 76.0, 1.0, 62.0, 11.0, 52.0, 60.0, 161.0, 2.0, 183.0, 65.0, 642.0, 888.0, 2429.0, 65.0, 2926.0, 1510.0, 0.0, 0.0, 0.0, 0.0, 0.0, 0.0, 0.0, 0.0, 0.0, 0.0, 0.0, 0.0, 16.0, 28.0, 25.0, 4.0, 25.0, 21.0, null, null, null, null, null, null, 9.0, 8.0, 56.0, 2.0, 55.0, 15.0, 71.0, 82.0, 148.0, 5.0, 299.0, 172.0, 9.0, 5.0, 1.0, 2.0, 4.0, 1.0, 28.0, 62.0, 162.0, 3.0, 130.0, 62.0, null, null, null, null, null, null, 4.0, 4.0, 17.0, 1.0, 14.0, 9.0, 26.0, 11.0, 9.0, 1.0, 10.0, 3.0, 460.0, 277.0, 268.0, 12.0, 118.0, 22.0, 11.0, 4.0, 8.0, 4.0, 2.0, 1.0, 31.0, 20.0, 15.0, 1.0, 18.0, 2.0, 0.0, 0.0, 0.0, 0.0, 0.0, 0.0, 137.0, 189.0, 677.0, 19.0, 867.0, 473.0, 93.0, 161.0, 336.0, 1.0, 311.0, 151.0, 678.0, 1153.0, 2296.0, 58.0, 1342.0, 511.0, 117.0, 72.0, 71.0, 7.0, 57.0, 30.0], \"yaxis\": \"y\"}, {\"alignmentgroup\": \"True\", \"customdata\": [[\"15-24 years\"], [\"25-34 years\"], [\"35-54 years\"], [\"5-14 years\"], [\"55-74 years\"], [\"75+ years\"], [\"15-24 years\"], [\"25-34 years\"], [\"35-54 years\"], [\"5-14 years\"], [\"55-74 years\"], [\"75+ years\"], [\"15-24 years\"], [\"25-34 years\"], [\"35-54 years\"], [\"5-14 years\"], [\"55-74 years\"], [\"75+ years\"], [\"15-24 years\"], [\"25-34 years\"], [\"35-54 years\"], [\"5-14 years\"], [\"55-74 years\"], [\"75+ years\"], [\"15-24 years\"], [\"25-34 years\"], [\"35-54 years\"], [\"5-14 years\"], [\"55-74 years\"], [\"75+ years\"], [\"15-24 years\"], [\"25-34 years\"], [\"35-54 years\"], [\"5-14 years\"], [\"55-74 years\"], [\"75+ years\"], [\"15-24 years\"], [\"25-34 years\"], [\"35-54 years\"], [\"5-14 years\"], [\"55-74 years\"], [\"75+ years\"], [\"15-24 years\"], [\"25-34 years\"], [\"35-54 years\"], [\"5-14 years\"], [\"55-74 years\"], [\"75+ years\"], [\"15-24 years\"], [\"25-34 years\"], [\"35-54 years\"], [\"5-14 years\"], [\"55-74 years\"], [\"75+ years\"], [\"15-24 years\"], [\"25-34 years\"], [\"35-54 years\"], [\"5-14 years\"], [\"55-74 years\"], [\"75+ years\"], [\"15-24 years\"], [\"25-34 years\"], [\"35-54 years\"], [\"5-14 years\"], [\"55-74 years\"], [\"75+ years\"], [\"15-24 years\"], [\"25-34 years\"], [\"35-54 years\"], [\"5-14 years\"], [\"55-74 years\"], [\"75+ years\"], [\"15-24 years\"], [\"25-34 years\"], [\"35-54 years\"], [\"5-14 years\"], [\"55-74 years\"], [\"75+ years\"], [\"15-24 years\"], [\"25-34 years\"], [\"35-54 years\"], [\"5-14 years\"], [\"55-74 years\"], [\"75+ years\"], [\"15-24 years\"], [\"25-34 years\"], [\"35-54 years\"], [\"5-14 years\"], [\"55-74 years\"], [\"75+ years\"], [\"15-24 years\"], [\"25-34 years\"], [\"35-54 years\"], [\"5-14 years\"], [\"55-74 years\"], [\"75+ years\"], [\"15-24 years\"], [\"25-34 years\"], [\"35-54 years\"], [\"5-14 years\"], [\"55-74 years\"], [\"75+ years\"], [\"15-24 years\"], [\"25-34 years\"], [\"35-54 years\"], [\"5-14 years\"], [\"55-74 years\"], [\"75+ years\"], [\"15-24 years\"], [\"25-34 years\"], [\"35-54 years\"], [\"5-14 years\"], [\"55-74 years\"], [\"75+ years\"], [\"15-24 years\"], [\"25-34 years\"], [\"35-54 years\"], [\"5-14 years\"], [\"55-74 years\"], [\"75+ years\"], [\"15-24 years\"], [\"25-34 years\"], [\"35-54 years\"], [\"5-14 years\"], [\"55-74 years\"], [\"75+ years\"], [\"15-24 years\"], [\"25-34 years\"], [\"35-54 years\"], [\"5-14 years\"], [\"55-74 years\"], [\"75+ years\"], [\"15-24 years\"], [\"25-34 years\"], [\"35-54 years\"], [\"5-14 years\"], [\"55-74 years\"], [\"75+ years\"], [\"15-24 years\"], [\"25-34 years\"], [\"35-54 years\"], [\"5-14 years\"], [\"55-74 years\"], [\"75+ years\"], [\"15-24 years\"], [\"25-34 years\"], [\"35-54 years\"], [\"5-14 years\"], [\"55-74 years\"], [\"75+ years\"], [\"15-24 years\"], [\"25-34 years\"], [\"35-54 years\"], [\"5-14 years\"], [\"55-74 years\"], [\"75+ years\"], [\"15-24 years\"], [\"25-34 years\"], [\"35-54 years\"], [\"5-14 years\"], [\"55-74 years\"], [\"75+ years\"], [\"15-24 years\"], [\"25-34 years\"], [\"35-54 years\"], [\"5-14 years\"], [\"55-74 years\"], [\"75+ years\"], [\"15-24 years\"], [\"25-34 years\"], [\"35-54 years\"], [\"5-14 years\"], [\"55-74 years\"], [\"75+ years\"], [\"15-24 years\"], [\"25-34 years\"], [\"35-54 years\"], [\"5-14 years\"], [\"55-74 years\"], [\"75+ years\"], [\"15-24 years\"], [\"25-34 years\"], [\"35-54 years\"], [\"5-14 years\"], [\"55-74 years\"], [\"75+ years\"], [\"15-24 years\"], [\"25-34 years\"], [\"35-54 years\"], [\"5-14 years\"], [\"55-74 years\"], [\"75+ years\"], [\"15-24 years\"], [\"25-34 years\"], [\"35-54 years\"], [\"5-14 years\"], [\"55-74 years\"], [\"75+ years\"], [\"15-24 years\"], [\"25-34 years\"], [\"35-54 years\"], [\"5-14 years\"], [\"55-74 years\"], [\"75+ years\"], [\"15-24 years\"], [\"25-34 years\"], [\"35-54 years\"], [\"5-14 years\"], [\"55-74 years\"], [\"75+ years\"], [\"15-24 years\"], [\"25-34 years\"], [\"35-54 years\"], [\"5-14 years\"], [\"55-74 years\"], [\"75+ years\"], [\"15-24 years\"], [\"25-34 years\"], [\"35-54 years\"], [\"5-14 years\"], [\"55-74 years\"], [\"75+ years\"], [\"15-24 years\"], [\"25-34 years\"], [\"35-54 years\"], [\"5-14 years\"], [\"55-74 years\"], [\"75+ years\"], [\"15-24 years\"], [\"25-34 years\"], [\"35-54 years\"], [\"5-14 years\"], [\"55-74 years\"], [\"75+ years\"], [\"15-24 years\"], [\"25-34 years\"], [\"35-54 years\"], [\"5-14 years\"], [\"55-74 years\"], [\"75+ years\"], [\"15-24 years\"], [\"25-34 years\"], [\"35-54 years\"], [\"5-14 years\"], [\"55-74 years\"], [\"75+ years\"], [\"15-24 years\"], [\"25-34 years\"], [\"35-54 years\"], [\"5-14 years\"], [\"55-74 years\"], [\"75+ years\"], [\"15-24 years\"], [\"25-34 years\"], [\"35-54 years\"], [\"5-14 years\"], [\"55-74 years\"], [\"75+ years\"], [\"15-24 years\"], [\"25-34 years\"], [\"35-54 years\"], [\"5-14 years\"], [\"55-74 years\"], [\"75+ years\"], [\"15-24 years\"], [\"25-34 years\"], [\"35-54 years\"], [\"5-14 years\"], [\"55-74 years\"], [\"75+ years\"], [\"15-24 years\"], [\"25-34 years\"], [\"35-54 years\"], [\"5-14 years\"], [\"55-74 years\"], [\"75+ years\"], [\"15-24 years\"], [\"25-34 years\"], [\"35-54 years\"], [\"5-14 years\"], [\"55-74 years\"], [\"75+ years\"], [\"15-24 years\"], [\"25-34 years\"], [\"35-54 years\"], [\"5-14 years\"], [\"55-74 years\"], [\"75+ years\"], [\"15-24 years\"], [\"25-34 years\"], [\"35-54 years\"], [\"5-14 years\"], [\"55-74 years\"], [\"75+ years\"], [\"15-24 years\"], [\"25-34 years\"], [\"35-54 years\"], [\"5-14 years\"], [\"55-74 years\"], [\"75+ years\"], [\"15-24 years\"], [\"25-34 years\"], [\"35-54 years\"], [\"5-14 years\"], [\"55-74 years\"], [\"75+ years\"], [\"15-24 years\"], [\"25-34 years\"], [\"35-54 years\"], [\"5-14 years\"], [\"55-74 years\"], [\"75+ years\"], [\"15-24 years\"], [\"25-34 years\"], [\"35-54 years\"], [\"5-14 years\"], [\"55-74 years\"], [\"75+ years\"], [\"15-24 years\"], [\"25-34 years\"], [\"35-54 years\"], [\"5-14 years\"], [\"55-74 years\"], [\"75+ years\"], [\"15-24 years\"], [\"25-34 years\"], [\"35-54 years\"], [\"5-14 years\"], [\"55-74 years\"], [\"75+ years\"], [\"15-24 years\"], [\"25-34 years\"], [\"35-54 years\"], [\"5-14 years\"], [\"55-74 years\"], [\"75+ years\"], [\"15-24 years\"], [\"25-34 years\"], [\"35-54 years\"], [\"5-14 years\"], [\"55-74 years\"], [\"75+ years\"], [\"15-24 years\"], [\"25-34 years\"], [\"35-54 years\"], [\"5-14 years\"], [\"55-74 years\"], [\"75+ years\"], [\"15-24 years\"], [\"25-34 years\"], [\"35-54 years\"], [\"5-14 years\"], [\"55-74 years\"], [\"75+ years\"], [\"15-24 years\"], [\"25-34 years\"], [\"35-54 years\"], [\"5-14 years\"], [\"55-74 years\"], [\"75+ years\"], [\"15-24 years\"], [\"25-34 years\"], [\"35-54 years\"], [\"5-14 years\"], [\"55-74 years\"], [\"75+ years\"], [\"15-24 years\"], [\"25-34 years\"], [\"35-54 years\"], [\"5-14 years\"], [\"55-74 years\"], [\"75+ years\"], [\"15-24 years\"], [\"25-34 years\"], [\"35-54 years\"], [\"5-14 years\"], [\"55-74 years\"], [\"75+ years\"], [\"15-24 years\"], [\"25-34 years\"], [\"35-54 years\"], [\"5-14 years\"], [\"55-74 years\"], [\"75+ years\"], [\"15-24 years\"], [\"25-34 years\"], [\"35-54 years\"], [\"5-14 years\"], [\"55-74 years\"], [\"75+ years\"], [\"15-24 years\"], [\"25-34 years\"], [\"35-54 years\"], [\"5-14 years\"], [\"55-74 years\"], [\"75+ years\"], [\"15-24 years\"], [\"25-34 years\"], [\"35-54 years\"], [\"5-14 years\"], [\"55-74 years\"], [\"75+ years\"], [\"15-24 years\"], [\"25-34 years\"], [\"35-54 years\"], [\"5-14 years\"], [\"55-74 years\"], [\"75+ years\"], [\"15-24 years\"], [\"25-34 years\"], [\"35-54 years\"], [\"5-14 years\"], [\"55-74 years\"], [\"75+ years\"], [\"15-24 years\"], [\"25-34 years\"], [\"35-54 years\"], [\"5-14 years\"], [\"55-74 years\"], [\"75+ years\"], [\"15-24 years\"], [\"25-34 years\"], [\"35-54 years\"], [\"5-14 years\"], [\"55-74 years\"], [\"75+ years\"], [\"15-24 years\"], [\"25-34 years\"], [\"35-54 years\"], [\"5-14 years\"], [\"55-74 years\"], [\"75+ years\"], [\"15-24 years\"], [\"25-34 years\"], [\"35-54 years\"], [\"5-14 years\"], [\"55-74 years\"], [\"75+ years\"], [\"15-24 years\"], [\"25-34 years\"], [\"35-54 years\"], [\"5-14 years\"], [\"55-74 years\"], [\"75+ years\"], [\"15-24 years\"], [\"25-34 years\"], [\"35-54 years\"], [\"5-14 years\"], [\"55-74 years\"], [\"75+ years\"], [\"15-24 years\"], [\"25-34 years\"], [\"35-54 years\"], [\"5-14 years\"], [\"55-74 years\"], [\"75+ years\"], [\"15-24 years\"], [\"25-34 years\"], [\"35-54 years\"], [\"5-14 years\"], [\"55-74 years\"], [\"75+ years\"], [\"15-24 years\"], [\"25-34 years\"], [\"35-54 years\"], [\"5-14 years\"], [\"55-74 years\"], [\"75+ years\"], [\"15-24 years\"], [\"25-34 years\"], [\"35-54 years\"], [\"5-14 years\"], [\"55-74 years\"], [\"75+ years\"], [\"15-24 years\"], [\"25-34 years\"], [\"35-54 years\"], [\"5-14 years\"], [\"55-74 years\"], [\"75+ years\"], [\"15-24 years\"], [\"25-34 years\"], [\"35-54 years\"], [\"5-14 years\"], [\"55-74 years\"], [\"75+ years\"], [\"15-24 years\"], [\"25-34 years\"], [\"35-54 years\"], [\"5-14 years\"], [\"55-74 years\"], [\"75+ years\"], [\"15-24 years\"], [\"25-34 years\"], [\"35-54 years\"], [\"5-14 years\"], [\"55-74 years\"], [\"75+ years\"], [\"15-24 years\"], [\"25-34 years\"], [\"35-54 years\"], [\"5-14 years\"], [\"55-74 years\"], [\"75+ years\"], [\"15-24 years\"], [\"25-34 years\"], [\"35-54 years\"], [\"5-14 years\"], [\"55-74 years\"], [\"75+ years\"], [\"15-24 years\"], [\"25-34 years\"], [\"35-54 years\"], [\"5-14 years\"], [\"55-74 years\"], [\"75+ years\"], [\"15-24 years\"], [\"25-34 years\"], [\"35-54 years\"], [\"5-14 years\"], [\"55-74 years\"], [\"75+ years\"], [\"15-24 years\"], [\"25-34 years\"], [\"35-54 years\"], [\"5-14 years\"], [\"55-74 years\"], [\"75+ years\"], [\"15-24 years\"], [\"25-34 years\"], [\"35-54 years\"], [\"5-14 years\"], [\"55-74 years\"], [\"75+ years\"], [\"15-24 years\"], [\"25-34 years\"], [\"35-54 years\"], [\"5-14 years\"], [\"55-74 years\"], [\"75+ years\"], [\"15-24 years\"], [\"25-34 years\"], [\"35-54 years\"], [\"5-14 years\"], [\"55-74 years\"], [\"75+ years\"]], \"hoverlabel\": {\"namelength\": 0}, \"hovertemplate\": \"sex=male<br>country=%{x}<br>suicides_no=%{y}<br>age=%{customdata[0]}\", \"legendgroup\": \"sex=male\", \"marker\": {\"color\": \"#EF553B\"}, \"name\": \"sex=male\", \"offsetgroup\": \"sex=male\", \"orientation\": \"v\", \"showlegend\": true, \"textposition\": \"auto\", \"type\": \"bar\", \"x\": [\"Albania\", \"Albania\", \"Albania\", \"Albania\", \"Albania\", \"Albania\", \"Anguilla\", \"Anguilla\", \"Anguilla\", \"Anguilla\", \"Anguilla\", \"Anguilla\", \"Antigua and Barbuda\", \"Antigua and Barbuda\", \"Antigua and Barbuda\", \"Antigua and Barbuda\", \"Antigua and Barbuda\", \"Antigua and Barbuda\", \"Argentina\", \"Argentina\", \"Argentina\", \"Argentina\", \"Argentina\", \"Argentina\", \"Armenia\", \"Armenia\", \"Armenia\", \"Armenia\", \"Armenia\", \"Armenia\", \"Australia\", \"Australia\", \"Australia\", \"Australia\", \"Australia\", \"Australia\", \"Austria\", \"Austria\", \"Austria\", \"Austria\", \"Austria\", \"Austria\", \"Azerbaijan\", \"Azerbaijan\", \"Azerbaijan\", \"Azerbaijan\", \"Azerbaijan\", \"Azerbaijan\", \"Barbados\", \"Barbados\", \"Barbados\", \"Barbados\", \"Barbados\", \"Barbados\", \"Belarus\", \"Belarus\", \"Belarus\", \"Belarus\", \"Belarus\", \"Belarus\", \"Belgium\", \"Belgium\", \"Belgium\", \"Belgium\", \"Belgium\", \"Belgium\", \"Belize\", \"Belize\", \"Belize\", \"Belize\", \"Belize\", \"Belize\", \"Bermuda\", \"Bermuda\", \"Bermuda\", \"Bermuda\", \"Bermuda\", \"Bermuda\", \"Bosnia and Herzegovina\", \"Bosnia and Herzegovina\", \"Bosnia and Herzegovina\", \"Bosnia and Herzegovina\", \"Bosnia and Herzegovina\", \"Bosnia and Herzegovina\", \"Brazil\", \"Brazil\", \"Brazil\", \"Brazil\", \"Brazil\", \"Brazil\", \"British Virgin Islands\", \"British Virgin Islands\", \"British Virgin Islands\", \"British Virgin Islands\", \"British Virgin Islands\", \"British Virgin Islands\", \"Bulgaria\", \"Bulgaria\", \"Bulgaria\", \"Bulgaria\", \"Bulgaria\", \"Bulgaria\", \"Canada\", \"Canada\", \"Canada\", \"Canada\", \"Canada\", \"Canada\", \"Cayman Islands\", \"Cayman Islands\", \"Cayman Islands\", \"Cayman Islands\", \"Cayman Islands\", \"Cayman Islands\", \"Chile\", \"Chile\", \"Chile\", \"Chile\", \"Chile\", \"Chile\", \"Colombia\", \"Colombia\", \"Colombia\", \"Colombia\", \"Colombia\", \"Colombia\", \"Costa Rica\", \"Costa Rica\", \"Costa Rica\", \"Costa Rica\", \"Costa Rica\", \"Costa Rica\", \"Croatia\", \"Croatia\", \"Croatia\", \"Croatia\", \"Croatia\", \"Croatia\", \"Cuba\", \"Cuba\", \"Cuba\", \"Cuba\", \"Cuba\", \"Cuba\", \"Czech Republic\", \"Czech Republic\", \"Czech Republic\", \"Czech Republic\", \"Czech Republic\", \"Czech Republic\", \"Denmark\", \"Denmark\", \"Denmark\", \"Denmark\", \"Denmark\", \"Denmark\", \"Dominica\", \"Dominica\", \"Dominica\", \"Dominica\", \"Dominica\", \"Dominica\", \"Dominican Republic\", \"Dominican Republic\", \"Dominican Republic\", \"Dominican Republic\", \"Dominican Republic\", \"Dominican Republic\", \"Ecuador\", \"Ecuador\", \"Ecuador\", \"Ecuador\", \"Ecuador\", \"Ecuador\", \"Egypt\", \"Egypt\", \"Egypt\", \"Egypt\", \"Egypt\", \"Egypt\", \"El Salvador\", \"El Salvador\", \"El Salvador\", \"El Salvador\", \"El Salvador\", \"El Salvador\", \"Estonia\", \"Estonia\", \"Estonia\", \"Estonia\", \"Estonia\", \"Estonia\", \"Finland\", \"Finland\", \"Finland\", \"Finland\", \"Finland\", \"Finland\", \"France\", \"France\", \"France\", \"France\", \"France\", \"France\", \"Georgia\", \"Georgia\", \"Georgia\", \"Georgia\", \"Georgia\", \"Georgia\", \"Germany\", \"Germany\", \"Germany\", \"Germany\", \"Germany\", \"Germany\", \"Greece\", \"Greece\", \"Greece\", \"Greece\", \"Greece\", \"Greece\", \"Grenada\", \"Grenada\", \"Grenada\", \"Grenada\", \"Grenada\", \"Grenada\", \"Guatemala\", \"Guatemala\", \"Guatemala\", \"Guatemala\", \"Guatemala\", \"Guatemala\", \"Guyana\", \"Guyana\", \"Guyana\", \"Guyana\", \"Guyana\", \"Guyana\", \"Hong Kong SAR\", \"Hong Kong SAR\", \"Hong Kong SAR\", \"Hong Kong SAR\", \"Hong Kong SAR\", \"Hong Kong SAR\", \"Hungary\", \"Hungary\", \"Hungary\", \"Hungary\", \"Hungary\", \"Hungary\", \"Iceland\", \"Iceland\", \"Iceland\", \"Iceland\", \"Iceland\", \"Iceland\", \"Ireland\", \"Ireland\", \"Ireland\", \"Ireland\", \"Ireland\", \"Ireland\", \"Israel\", \"Israel\", \"Israel\", \"Israel\", \"Israel\", \"Israel\", \"Italy\", \"Italy\", \"Italy\", \"Italy\", \"Italy\", \"Italy\", \"Jamaica\", \"Jamaica\", \"Jamaica\", \"Jamaica\", \"Jamaica\", \"Jamaica\", \"Japan\", \"Japan\", \"Japan\", \"Japan\", \"Japan\", \"Japan\", \"Kazakhstan\", \"Kazakhstan\", \"Kazakhstan\", \"Kazakhstan\", \"Kazakhstan\", \"Kazakhstan\", \"Kiribati\", \"Kiribati\", \"Kiribati\", \"Kiribati\", \"Kiribati\", \"Kiribati\", \"Kyrgyzstan\", \"Kyrgyzstan\", \"Kyrgyzstan\", \"Kyrgyzstan\", \"Kyrgyzstan\", \"Kyrgyzstan\", \"Latvia\", \"Latvia\", \"Latvia\", \"Latvia\", \"Latvia\", \"Latvia\", \"Lithuania\", \"Lithuania\", \"Lithuania\", \"Lithuania\", \"Lithuania\", \"Lithuania\", \"Luxembourg\", \"Luxembourg\", \"Luxembourg\", \"Luxembourg\", \"Luxembourg\", \"Luxembourg\", \"Malta\", \"Malta\", \"Malta\", \"Malta\", \"Malta\", \"Malta\", \"Mauritius\", \"Mauritius\", \"Mauritius\", \"Mauritius\", \"Mauritius\", \"Mauritius\", \"Mexico\", \"Mexico\", \"Mexico\", \"Mexico\", \"Mexico\", \"Mexico\", \"Montserrat\", \"Montserrat\", \"Montserrat\", \"Montserrat\", \"Montserrat\", \"Montserrat\", \"Netherlands\", \"Netherlands\", \"Netherlands\", \"Netherlands\", \"Netherlands\", \"Netherlands\", \"Netherlands Antilles\", \"Netherlands Antilles\", \"Netherlands Antilles\", \"Netherlands Antilles\", \"Netherlands Antilles\", \"Netherlands Antilles\", \"New Zealand\", \"New Zealand\", \"New Zealand\", \"New Zealand\", \"New Zealand\", \"New Zealand\", \"Nicaragua\", \"Nicaragua\", \"Nicaragua\", \"Nicaragua\", \"Nicaragua\", \"Nicaragua\", \"Norway\", \"Norway\", \"Norway\", \"Norway\", \"Norway\", \"Norway\", \"Paraguay\", \"Paraguay\", \"Paraguay\", \"Paraguay\", \"Paraguay\", \"Paraguay\", \"Peru\", \"Peru\", \"Peru\", \"Peru\", \"Peru\", \"Peru\", \"Poland\", \"Poland\", \"Poland\", \"Poland\", \"Poland\", \"Poland\", \"Portugal\", \"Portugal\", \"Portugal\", \"Portugal\", \"Portugal\", \"Portugal\", \"Puerto Rico\", \"Puerto Rico\", \"Puerto Rico\", \"Puerto Rico\", \"Puerto Rico\", \"Puerto Rico\", \"Republic of Korea\", \"Republic of Korea\", \"Republic of Korea\", \"Republic of Korea\", \"Republic of Korea\", \"Republic of Korea\", \"Republic of Moldova\", \"Republic of Moldova\", \"Republic of Moldova\", \"Republic of Moldova\", \"Republic of Moldova\", \"Republic of Moldova\", \"Romania\", \"Romania\", \"Romania\", \"Romania\", \"Romania\", \"Romania\", \"Russian Federation\", \"Russian Federation\", \"Russian Federation\", \"Russian Federation\", \"Russian Federation\", \"Russian Federation\", \"Saint Kitts and Nevis\", \"Saint Kitts and Nevis\", \"Saint Kitts and Nevis\", \"Saint Kitts and Nevis\", \"Saint Kitts and Nevis\", \"Saint Kitts and Nevis\", \"Saint Lucia\", \"Saint Lucia\", \"Saint Lucia\", \"Saint Lucia\", \"Saint Lucia\", \"Saint Lucia\", \"Singapore\", \"Singapore\", \"Singapore\", \"Singapore\", \"Singapore\", \"Singapore\", \"Slovakia\", \"Slovakia\", \"Slovakia\", \"Slovakia\", \"Slovakia\", \"Slovakia\", \"Slovenia\", \"Slovenia\", \"Slovenia\", \"Slovenia\", \"Slovenia\", \"Slovenia\", \"Spain\", \"Spain\", \"Spain\", \"Spain\", \"Spain\", \"Spain\", \"Suriname\", \"Suriname\", \"Suriname\", \"Suriname\", \"Suriname\", \"Suriname\", \"Sweden\", \"Sweden\", \"Sweden\", \"Sweden\", \"Sweden\", \"Sweden\", \"Switzerland\", \"Switzerland\", \"Switzerland\", \"Switzerland\", \"Switzerland\", \"Switzerland\", \"TFYR Macedonia\", \"TFYR Macedonia\", \"TFYR Macedonia\", \"TFYR Macedonia\", \"TFYR Macedonia\", \"TFYR Macedonia\", \"Tajikistan\", \"Tajikistan\", \"Tajikistan\", \"Tajikistan\", \"Tajikistan\", \"Tajikistan\", \"Thailand\", \"Thailand\", \"Thailand\", \"Thailand\", \"Thailand\", \"Thailand\", \"Trinidad and Tobago\", \"Trinidad and Tobago\", \"Trinidad and Tobago\", \"Trinidad and Tobago\", \"Trinidad and Tobago\", \"Trinidad and Tobago\", \"Turkmenistan\", \"Turkmenistan\", \"Turkmenistan\", \"Turkmenistan\", \"Turkmenistan\", \"Turkmenistan\", \"Turks and Caicos Islands\", \"Turks and Caicos Islands\", \"Turks and Caicos Islands\", \"Turks and Caicos Islands\", \"Turks and Caicos Islands\", \"Turks and Caicos Islands\", \"Ukraine\", \"Ukraine\", \"Ukraine\", \"Ukraine\", \"Ukraine\", \"Ukraine\", \"United Kingdom\", \"United Kingdom\", \"United Kingdom\", \"United Kingdom\", \"United Kingdom\", \"United Kingdom\", \"United States of America\", \"United States of America\", \"United States of America\", \"United States of America\", \"United States of America\", \"United States of America\", \"Uzbekistan\", \"Uzbekistan\", \"Uzbekistan\", \"Uzbekistan\", \"Uzbekistan\", \"Uzbekistan\"], \"xaxis\": \"x\", \"y\": [null, null, null, null, null, null, 0.0, 0.0, 0.0, 0.0, 0.0, 0.0, 0.0, 0.0, 0.0, 0.0, 0.0, 0.0, 179.0, 214.0, 398.0, 28.0, 449.0, 184.0, 6.0, 20.0, 14.0, 0.0, 9.0, 5.0, 354.0, 427.0, 631.0, 7.0, 273.0, 114.0, 153.0, 197.0, 402.0, 2.0, 336.0, 209.0, 22.0, 29.0, 26.0, 0.0, 22.0, 3.0, 3.0, 4.0, 5.0, 0.0, 1.0, 0.0, 143.0, 342.0, 756.0, 14.0, 401.0, 71.0, 100.0, 235.0, 424.0, 4.0, 310.0, 205.0, 0.0, 0.0, 1.0, 0.0, 1.0, 0.0, 0.0, 0.0, 2.0, 0.0, 0.0, 1.0, 98.0, 151.0, 124.0, 15.0, 55.0, 14.0, 771.0, 1002.0, 1334.0, 41.0, 660.0, 153.0, 0.0, 0.0, 0.0, 0.0, 0.0, 0.0, 80.0, 111.0, 289.0, 12.0, 306.0, 203.0, 539.0, 713.0, 974.0, 20.0, 490.0, 139.0, 1.0, 0.0, 0.0, 0.0, 0.0, 0.0, 142.0, 143.0, 222.0, 5.0, 111.0, 31.0, 280.0, 216.0, 175.0, 24.0, 89.0, 14.0, 15.0, 31.0, 41.0, 1.0, 16.0, 2.0, 77.0, 114.0, 242.0, 2.0, 273.0, 68.0, null, null, null, null, null, null, 116.0, 176.0, 554.0, 14.0, 365.0, 168.0, null, null, null, null, null, null, 0.0, 0.0, 0.0, 0.0, 0.0, 0.0, 24.0, 18.0, 27.0, 2.0, 18.0, 3.0, 107.0, 70.0, 83.0, 3.0, 37.0, 5.0, null, null, null, null, null, null, 98.0, 88.0, 76.0, 1.0, 39.0, 18.0, 23.0, 60.0, 144.0, 3.0, 64.0, 21.0, 139.0, 257.0, 489.0, 3.0, 235.0, 67.0, 639.0, 1346.0, 2870.0, 9.0, 2048.0, 1309.0, 12.0, 20.0, 38.0, 0.0, 44.0, 9.0, 775.0, 1523.0, 3427.0, 27.0, 2445.0, 1459.0, 31.0, 38.0, 81.0, 4.0, 95.0, 48.0, 0.0, 0.0, 0.0, 0.0, 0.0, 0.0, 24.0, 36.0, 45.0, 4.0, 11.0, 4.0, 25.0, 20.0, 22.0, 2.0, 4.0, 3.0, 33.0, 109.0, 144.0, 2.0, 126.0, 45.0, 154.0, 364.0, 1271.0, 7.0, 751.0, 333.0, 13.0, 3.0, 6.0, 0.0, 5.0, 2.0, 61.0, 69.0, 91.0, 0.0, 53.0, 8.0, 49.0, 41.0, 74.0, 3.0, 60.0, 35.0, 258.0, 448.0, 846.0, 8.0, 1074.0, 572.0, 0.0, 0.0, 0.0, 0.0, 1.0, 0.0, 891.0, 1419.0, 4935.0, 22.0, 3779.0, 1354.0, 405.0, 621.0, 866.0, 66.0, 354.0, 74.0, 5.0, 1.0, 1.0, 0.0, 1.0, 0.0, 49.0, 120.0, 138.0, 16.0, 73.0, 14.0, 50.0, 110.0, 232.0, 3.0, 145.0, 38.0, 77.0, 185.0, 403.0, 3.0, 219.0, 33.0, 4.0, 9.0, 17.0, 0.0, 16.0, 8.0, 3.0, 3.0, 3.0, 0.0, 0.0, 0.0, 15.0, 37.0, 27.0, 0.0, 12.0, 3.0, 560.0, 430.0, 440.0, 46.0, 240.0, 73.0, 0.0, 0.0, 0.0, 0.0, 0.0, 0.0, 114.0, 198.0, 374.0, 3.0, 225.0, 119.0, 0.0, 3.0, 3.0, 0.0, 0.0, 0.0, 109.0, 95.0, 110.0, 4.0, 45.0, 17.0, 30.0, 23.0, 15.0, 0.0, 7.0, 1.0, 90.0, 92.0, 162.0, 4.0, 120.0, 31.0, 15.0, 8.0, 14.0, 2.0, 8.0, 1.0, 21.0, 12.0, 11.0, 1.0, 6.0, 0.0, 441.0, 849.0, 2004.0, 39.0, 963.0, 152.0, 58.0, 126.0, 156.0, 1.0, 224.0, 143.0, 39.0, 47.0, 121.0, 1.0, 68.0, 43.0, 451.0, 568.0, 708.0, 26.0, 331.0, 55.0, 44.0, 108.0, 230.0, 7.0, 115.0, 23.0, 152.0, 229.0, 645.0, 15.0, 487.0, 110.0, 2984.0, 6901.0, 12746.0, 298.0, 6566.0, 1326.0, 0.0, 0.0, 0.0, 0.0, 0.0, 0.0, 1.0, 2.0, 2.0, 0.0, 0.0, 1.0, 25.0, 44.0, 54.0, 0.0, 38.0, 16.0, null, null, null, null, null, null, 39.0, 69.0, 212.0, 3.0, 132.0, 46.0, 238.0, 326.0, 473.0, 20.0, 732.0, 350.0, 5.0, 15.0, 13.0, 0.0, 1.0, 1.0, 100.0, 162.0, 375.0, 3.0, 266.0, 130.0, null, null, null, null, null, null, 17.0, 9.0, 32.0, 0.0, 30.0, 8.0, 21.0, 36.0, 57.0, 6.0, 27.0, 2.0, 768.0, 643.0, 636.0, 16.0, 295.0, 44.0, 42.0, 32.0, 27.0, 1.0, 16.0, 0.0, 50.0, 53.0, 55.0, 3.0, 22.0, 3.0, 0.0, 0.0, 0.0, 0.0, 0.0, 0.0, 618.0, 1465.0, 3634.0, 64.0, 2075.0, 482.0, 481.0, 801.0, 1342.0, 4.0, 628.0, 238.0, 4073.0, 5361.0, 7454.0, 208.0, 4983.0, 2673.0, 209.0, 289.0, 353.0, 49.0, 119.0, 20.0], \"yaxis\": \"y\"}],\n",
              "                        {\"barmode\": \"relative\", \"legend\": {\"tracegroupgap\": 0}, \"template\": {\"data\": {\"bar\": [{\"error_x\": {\"color\": \"#2a3f5f\"}, \"error_y\": {\"color\": \"#2a3f5f\"}, \"marker\": {\"line\": {\"color\": \"#E5ECF6\", \"width\": 0.5}}, \"type\": \"bar\"}], \"barpolar\": [{\"marker\": {\"line\": {\"color\": \"#E5ECF6\", \"width\": 0.5}}, \"type\": \"barpolar\"}], \"carpet\": [{\"aaxis\": {\"endlinecolor\": \"#2a3f5f\", \"gridcolor\": \"white\", \"linecolor\": \"white\", \"minorgridcolor\": \"white\", \"startlinecolor\": \"#2a3f5f\"}, \"baxis\": {\"endlinecolor\": \"#2a3f5f\", \"gridcolor\": \"white\", \"linecolor\": \"white\", \"minorgridcolor\": \"white\", \"startlinecolor\": \"#2a3f5f\"}, \"type\": \"carpet\"}], \"choropleth\": [{\"colorbar\": {\"outlinewidth\": 0, \"ticks\": \"\"}, \"type\": \"choropleth\"}], \"contour\": [{\"colorbar\": {\"outlinewidth\": 0, \"ticks\": \"\"}, \"colorscale\": [[0.0, \"#0d0887\"], [0.1111111111111111, \"#46039f\"], [0.2222222222222222, \"#7201a8\"], [0.3333333333333333, \"#9c179e\"], [0.4444444444444444, \"#bd3786\"], [0.5555555555555556, \"#d8576b\"], [0.6666666666666666, \"#ed7953\"], [0.7777777777777778, \"#fb9f3a\"], [0.8888888888888888, \"#fdca26\"], [1.0, \"#f0f921\"]], \"type\": \"contour\"}], \"contourcarpet\": [{\"colorbar\": {\"outlinewidth\": 0, \"ticks\": \"\"}, \"type\": \"contourcarpet\"}], \"heatmap\": [{\"colorbar\": {\"outlinewidth\": 0, \"ticks\": \"\"}, \"colorscale\": [[0.0, \"#0d0887\"], [0.1111111111111111, \"#46039f\"], [0.2222222222222222, \"#7201a8\"], [0.3333333333333333, \"#9c179e\"], [0.4444444444444444, \"#bd3786\"], [0.5555555555555556, \"#d8576b\"], [0.6666666666666666, \"#ed7953\"], [0.7777777777777778, \"#fb9f3a\"], [0.8888888888888888, \"#fdca26\"], [1.0, \"#f0f921\"]], \"type\": \"heatmap\"}], \"heatmapgl\": [{\"colorbar\": {\"outlinewidth\": 0, \"ticks\": \"\"}, \"colorscale\": [[0.0, \"#0d0887\"], [0.1111111111111111, \"#46039f\"], [0.2222222222222222, \"#7201a8\"], [0.3333333333333333, \"#9c179e\"], [0.4444444444444444, \"#bd3786\"], [0.5555555555555556, \"#d8576b\"], [0.6666666666666666, \"#ed7953\"], [0.7777777777777778, \"#fb9f3a\"], [0.8888888888888888, \"#fdca26\"], [1.0, \"#f0f921\"]], \"type\": \"heatmapgl\"}], \"histogram\": [{\"marker\": {\"colorbar\": {\"outlinewidth\": 0, \"ticks\": \"\"}}, \"type\": \"histogram\"}], \"histogram2d\": [{\"colorbar\": {\"outlinewidth\": 0, \"ticks\": \"\"}, \"colorscale\": [[0.0, \"#0d0887\"], [0.1111111111111111, \"#46039f\"], [0.2222222222222222, \"#7201a8\"], [0.3333333333333333, \"#9c179e\"], [0.4444444444444444, \"#bd3786\"], [0.5555555555555556, \"#d8576b\"], [0.6666666666666666, \"#ed7953\"], [0.7777777777777778, \"#fb9f3a\"], [0.8888888888888888, \"#fdca26\"], [1.0, \"#f0f921\"]], \"type\": \"histogram2d\"}], \"histogram2dcontour\": [{\"colorbar\": {\"outlinewidth\": 0, \"ticks\": \"\"}, \"colorscale\": [[0.0, \"#0d0887\"], [0.1111111111111111, \"#46039f\"], [0.2222222222222222, \"#7201a8\"], [0.3333333333333333, \"#9c179e\"], [0.4444444444444444, \"#bd3786\"], [0.5555555555555556, \"#d8576b\"], [0.6666666666666666, \"#ed7953\"], [0.7777777777777778, \"#fb9f3a\"], [0.8888888888888888, \"#fdca26\"], [1.0, \"#f0f921\"]], \"type\": \"histogram2dcontour\"}], \"mesh3d\": [{\"colorbar\": {\"outlinewidth\": 0, \"ticks\": \"\"}, \"type\": \"mesh3d\"}], \"parcoords\": [{\"line\": {\"colorbar\": {\"outlinewidth\": 0, \"ticks\": \"\"}}, \"type\": \"parcoords\"}], \"pie\": [{\"automargin\": true, \"type\": \"pie\"}], \"scatter\": [{\"marker\": {\"colorbar\": {\"outlinewidth\": 0, \"ticks\": \"\"}}, \"type\": \"scatter\"}], \"scatter3d\": [{\"line\": {\"colorbar\": {\"outlinewidth\": 0, \"ticks\": \"\"}}, \"marker\": {\"colorbar\": {\"outlinewidth\": 0, \"ticks\": \"\"}}, \"type\": \"scatter3d\"}], \"scattercarpet\": [{\"marker\": {\"colorbar\": {\"outlinewidth\": 0, \"ticks\": \"\"}}, \"type\": \"scattercarpet\"}], \"scattergeo\": [{\"marker\": {\"colorbar\": {\"outlinewidth\": 0, \"ticks\": \"\"}}, \"type\": \"scattergeo\"}], \"scattergl\": [{\"marker\": {\"colorbar\": {\"outlinewidth\": 0, \"ticks\": \"\"}}, \"type\": \"scattergl\"}], \"scattermapbox\": [{\"marker\": {\"colorbar\": {\"outlinewidth\": 0, \"ticks\": \"\"}}, \"type\": \"scattermapbox\"}], \"scatterpolar\": [{\"marker\": {\"colorbar\": {\"outlinewidth\": 0, \"ticks\": \"\"}}, \"type\": \"scatterpolar\"}], \"scatterpolargl\": [{\"marker\": {\"colorbar\": {\"outlinewidth\": 0, \"ticks\": \"\"}}, \"type\": \"scatterpolargl\"}], \"scatterternary\": [{\"marker\": {\"colorbar\": {\"outlinewidth\": 0, \"ticks\": \"\"}}, \"type\": \"scatterternary\"}], \"surface\": [{\"colorbar\": {\"outlinewidth\": 0, \"ticks\": \"\"}, \"colorscale\": [[0.0, \"#0d0887\"], [0.1111111111111111, \"#46039f\"], [0.2222222222222222, \"#7201a8\"], [0.3333333333333333, \"#9c179e\"], [0.4444444444444444, \"#bd3786\"], [0.5555555555555556, \"#d8576b\"], [0.6666666666666666, \"#ed7953\"], [0.7777777777777778, \"#fb9f3a\"], [0.8888888888888888, \"#fdca26\"], [1.0, \"#f0f921\"]], \"type\": \"surface\"}], \"table\": [{\"cells\": {\"fill\": {\"color\": \"#EBF0F8\"}, \"line\": {\"color\": \"white\"}}, \"header\": {\"fill\": {\"color\": \"#C8D4E3\"}, \"line\": {\"color\": \"white\"}}, \"type\": \"table\"}]}, \"layout\": {\"annotationdefaults\": {\"arrowcolor\": \"#2a3f5f\", \"arrowhead\": 0, \"arrowwidth\": 1}, \"coloraxis\": {\"colorbar\": {\"outlinewidth\": 0, \"ticks\": \"\"}}, \"colorscale\": {\"diverging\": [[0, \"#8e0152\"], [0.1, \"#c51b7d\"], [0.2, \"#de77ae\"], [0.3, \"#f1b6da\"], [0.4, \"#fde0ef\"], [0.5, \"#f7f7f7\"], [0.6, \"#e6f5d0\"], [0.7, \"#b8e186\"], [0.8, \"#7fbc41\"], [0.9, \"#4d9221\"], [1, \"#276419\"]], \"sequential\": [[0.0, \"#0d0887\"], [0.1111111111111111, \"#46039f\"], [0.2222222222222222, \"#7201a8\"], [0.3333333333333333, \"#9c179e\"], [0.4444444444444444, \"#bd3786\"], [0.5555555555555556, \"#d8576b\"], [0.6666666666666666, \"#ed7953\"], [0.7777777777777778, \"#fb9f3a\"], [0.8888888888888888, \"#fdca26\"], [1.0, \"#f0f921\"]], \"sequentialminus\": [[0.0, \"#0d0887\"], [0.1111111111111111, \"#46039f\"], [0.2222222222222222, \"#7201a8\"], [0.3333333333333333, \"#9c179e\"], [0.4444444444444444, \"#bd3786\"], [0.5555555555555556, \"#d8576b\"], [0.6666666666666666, \"#ed7953\"], [0.7777777777777778, \"#fb9f3a\"], [0.8888888888888888, \"#fdca26\"], [1.0, \"#f0f921\"]]}, \"colorway\": [\"#636efa\", \"#EF553B\", \"#00cc96\", \"#ab63fa\", \"#FFA15A\", \"#19d3f3\", \"#FF6692\", \"#B6E880\", \"#FF97FF\", \"#FECB52\"], \"font\": {\"color\": \"#2a3f5f\"}, \"geo\": {\"bgcolor\": \"white\", \"lakecolor\": \"white\", \"landcolor\": \"#E5ECF6\", \"showlakes\": true, \"showland\": true, \"subunitcolor\": \"white\"}, \"hoverlabel\": {\"align\": \"left\"}, \"hovermode\": \"closest\", \"mapbox\": {\"style\": \"light\"}, \"paper_bgcolor\": \"white\", \"plot_bgcolor\": \"#E5ECF6\", \"polar\": {\"angularaxis\": {\"gridcolor\": \"white\", \"linecolor\": \"white\", \"ticks\": \"\"}, \"bgcolor\": \"#E5ECF6\", \"radialaxis\": {\"gridcolor\": \"white\", \"linecolor\": \"white\", \"ticks\": \"\"}}, \"scene\": {\"xaxis\": {\"backgroundcolor\": \"#E5ECF6\", \"gridcolor\": \"white\", \"gridwidth\": 2, \"linecolor\": \"white\", \"showbackground\": true, \"ticks\": \"\", \"zerolinecolor\": \"white\"}, \"yaxis\": {\"backgroundcolor\": \"#E5ECF6\", \"gridcolor\": \"white\", \"gridwidth\": 2, \"linecolor\": \"white\", \"showbackground\": true, \"ticks\": \"\", \"zerolinecolor\": \"white\"}, \"zaxis\": {\"backgroundcolor\": \"#E5ECF6\", \"gridcolor\": \"white\", \"gridwidth\": 2, \"linecolor\": \"white\", \"showbackground\": true, \"ticks\": \"\", \"zerolinecolor\": \"white\"}}, \"shapedefaults\": {\"line\": {\"color\": \"#2a3f5f\"}}, \"ternary\": {\"aaxis\": {\"gridcolor\": \"white\", \"linecolor\": \"white\", \"ticks\": \"\"}, \"baxis\": {\"gridcolor\": \"white\", \"linecolor\": \"white\", \"ticks\": \"\"}, \"bgcolor\": \"#E5ECF6\", \"caxis\": {\"gridcolor\": \"white\", \"linecolor\": \"white\", \"ticks\": \"\"}}, \"title\": {\"x\": 0.05}, \"xaxis\": {\"automargin\": true, \"gridcolor\": \"white\", \"linecolor\": \"white\", \"ticks\": \"\", \"title\": {\"standoff\": 15}, \"zerolinecolor\": \"white\", \"zerolinewidth\": 2}, \"yaxis\": {\"automargin\": true, \"gridcolor\": \"white\", \"linecolor\": \"white\", \"ticks\": \"\", \"title\": {\"standoff\": 15}, \"zerolinecolor\": \"white\", \"zerolinewidth\": 2}}}, \"title\": {\"text\": \"Absolut Bar depend on sex\"}, \"xaxis\": {\"anchor\": \"y\", \"domain\": [0.0, 1.0], \"title\": {\"text\": \"country\"}}, \"yaxis\": {\"anchor\": \"x\", \"domain\": [0.0, 1.0], \"title\": {\"text\": \"suicides_no\"}}},\n",
              "                        {\"responsive\": true}\n",
              "                    ).then(function(){\n",
              "                            \n",
              "var gd = document.getElementById('800304b9-5527-4fbe-aae7-1bd5df3c7360');\n",
              "var x = new MutationObserver(function (mutations, observer) {{\n",
              "        var display = window.getComputedStyle(gd).display;\n",
              "        if (!display || display === 'none') {{\n",
              "            console.log([gd, 'removed!']);\n",
              "            Plotly.purge(gd);\n",
              "            observer.disconnect();\n",
              "        }}\n",
              "}});\n",
              "\n",
              "// Listen for the removal of the full notebook cells\n",
              "var notebookContainer = gd.closest('#notebook-container');\n",
              "if (notebookContainer) {{\n",
              "    x.observe(notebookContainer, {childList: true});\n",
              "}}\n",
              "\n",
              "// Listen for the clearing of the current output cell\n",
              "var outputEl = gd.closest('.output');\n",
              "if (outputEl) {{\n",
              "    x.observe(outputEl, {childList: true});\n",
              "}}\n",
              "\n",
              "                        })\n",
              "                };\n",
              "                \n",
              "            </script>\n",
              "        </div>\n",
              "</body>\n",
              "</html>"
            ]
          },
          "metadata": {}
        }
      ]
    },
    {
      "cell_type": "code",
      "metadata": {
        "colab": {
          "base_uri": "https://localhost:8080/",
          "height": 542
        },
        "id": "ELBzh_r5eeaa",
        "outputId": "393428e9-89c6-4c2c-b1a7-cd4be265ac75"
      },
      "source": [
        "fig_hbar= px.bar(df3.loc[(df!=0).any(axis=1)].dropna().sort_values(by='proportion'), x=('proportion'),y=\"country\", orientation='h')\n",
        "fig_hbar.show()"
      ],
      "id": "ELBzh_r5eeaa",
      "execution_count": 202,
      "outputs": [
        {
          "output_type": "display_data",
          "data": {
            "text/html": [
              "<html>\n",
              "<head><meta charset=\"utf-8\" /></head>\n",
              "<body>\n",
              "    <div>\n",
              "            <script src=\"https://cdnjs.cloudflare.com/ajax/libs/mathjax/2.7.5/MathJax.js?config=TeX-AMS-MML_SVG\"></script><script type=\"text/javascript\">if (window.MathJax) {MathJax.Hub.Config({SVG: {font: \"STIX-Web\"}});}</script>\n",
              "                <script type=\"text/javascript\">window.PlotlyConfig = {MathJaxConfig: 'local'};</script>\n",
              "        <script src=\"https://cdn.plot.ly/plotly-latest.min.js\"></script>    \n",
              "            <div id=\"7299e3ec-9f0a-4304-a65c-e5e79b30f9d6\" class=\"plotly-graph-div\" style=\"height:525px; width:100%;\"></div>\n",
              "            <script type=\"text/javascript\">\n",
              "                \n",
              "                    window.PLOTLYENV=window.PLOTLYENV || {};\n",
              "                    \n",
              "                if (document.getElementById(\"7299e3ec-9f0a-4304-a65c-e5e79b30f9d6\")) {\n",
              "                    Plotly.newPlot(\n",
              "                        '7299e3ec-9f0a-4304-a65c-e5e79b30f9d6',\n",
              "                        [{\"alignmentgroup\": \"True\", \"hoverlabel\": {\"namelength\": 0}, \"hovertemplate\": \"proportion=%{x}<br>country=%{y}\", \"legendgroup\": \"\", \"marker\": {\"color\": \"#636efa\"}, \"name\": \"\", \"offsetgroup\": \"\", \"orientation\": \"h\", \"showlegend\": false, \"textposition\": \"auto\", \"type\": \"bar\", \"x\": [0.0, 0.0, 0.0, 0.0, 0.0, 0.0, 0.0, 0.0008315784363011877, 0.003460974056538472, 0.00390794446029333, 0.01051275937967099, 0.01325543555704311, 0.019930641368039223, 0.020505241099418658, 0.020870602265951103, 0.02105517909002904, 0.021340215762134424, 0.021431968897350415, 0.022427637577787107, 0.02424197483683012, 0.02520640165043762, 0.02646045154760566, 0.030029743095547817, 0.03053901358986105, 0.035380696292103025, 0.03779712318536012, 0.04251459430615764, 0.04418484075799932, 0.04662089236289312, 0.048975593829075174, 0.04946486822819445, 0.05002816687270756, 0.051248261219708616, 0.05173652743326189, 0.053659695926687886, 0.057764739664057735, 0.06180469715698393, 0.06404440412019, 0.06434829211836392, 0.06773501670477289, 0.06831851732420963, 0.06986974666842237, 0.06997511767139274, 0.07123868207980479, 0.0745385257322107, 0.07718346329156942, 0.08071187877075808, 0.08246307209469614, 0.08250905396682, 0.08459011626772046, 0.08601819765884795, 0.09156670634557275, 0.10185212674825384, 0.10273752422800811, 0.10669170365312393, 0.10740785064624223, 0.11005213367101467, 0.11204148736217753, 0.11281897283302543, 0.11293461193397904, 0.1130913015579556, 0.1176514475432369, 0.11817533715591379, 0.12003098981918968, 0.12233189496125285, 0.12295010117432341, 0.12397217050711887, 0.12411567580985479, 0.12654375604036178, 0.13024523363953094, 0.13158878814544206, 0.1324375173836432, 0.13263009668626, 0.13353146562474022, 0.14141631265449733, 0.14276304940936618, 0.1603198940188182, 0.16091363184301982, 0.16220557895991697, 0.16620217580505983, 0.17338935999150498, 0.17872973113503854, 0.18368236045549266, 0.18483113435055876, 0.18741902104850489, 0.20033117120777527, 0.20232086030944804, 0.20357042984385001, 0.2049285053025882, 0.2063328119927996, 0.2118750945870958, 0.23634117777169056, 0.2516959015239723, 0.25310427147155423, 0.2602493974027149, 0.2631004954972155, 0.2638187957794606, 0.2725585946341861, 0.27982967886622734, 0.336378253490354, 0.4154686637721405], \"xaxis\": \"x\", \"y\": [\"Albania\", \"Antigua and Barbuda\", \"Armenia\", \"Portugal\", \"Australia\", \"Azerbaijan\", \"Belarus\", \"Egypt\", \"Maldives\", \"Barbados\", \"South Africa\", \"Bahamas\", \"Virgin Islands (USA)\", \"Jamaica\", \"Brunei Darussalam\", \"Georgia\", \"Qatar\", \"Guatemala\", \"United Arab Emirates\", \"Cyprus\", \"Kuwait\", \"Saint Lucia\", \"Fiji\", \"Rodrigues\", \"San Marino\", \"Greece\", \"Venezuela (Bolivarian Republic of)\", \"Mexico\", \"Paraguay\", \"Belize\", \"Malta\", \"Brazil\", \"Bahrain\", \"Uzbekistan\", \"Colombia\", \"Panama\", \"Seychelles\", \"Grenada\", \"Thailand\", \"Italy\", \"Israel\", \"Martinique\", \"Costa Rica\", \"United Kingdom\", \"TFYR Macedonia\", \"Ecuador\", \"Saint Vincent and Grenadines\", \"Puerto Rico\", \"Spain\", \"El Salvador\", \"Argentina\", \"Mauritius\", \"Kyrgyzstan\", \"Netherlands\", \"Aruba\", \"Singapore\", \"Turkmenistan\", \"Luxembourg\", \"Trinidad and Tobago\", \"Chile\", \"Guadeloupe\", \"Ireland\", \"United States of America\", \"Iceland\", \"Canada\", \"Norway\", \"Denmark\", \"Reunion\", \"Romania\", \"Germany\", \"Cuba\", \"Slovakia\", \"Bulgaria\", \"New Zealand\", \"French Guiana\", \"Sweden\", \"Czech Republic\", \"Suriname\", \"Uruguay\", \"Poland\", \"Hong Kong SAR\", \"Austria\", \"Switzerland\", \"Republic of Moldova\", \"France\", \"Finland\", \"Montenegro\", \"Serbia\", \"Belgium\", \"Croatia\", \"Estonia\", \"Ukraine\", \"Japan\", \"Guyana\", \"Republic of Korea\", \"Slovenia\", \"Latvia\", \"Hungary\", \"Kazakhstan\", \"Russian Federation\", \"Lithuania\"], \"yaxis\": \"y\"}],\n",
              "                        {\"barmode\": \"relative\", \"legend\": {\"tracegroupgap\": 0}, \"margin\": {\"t\": 60}, \"template\": {\"data\": {\"bar\": [{\"error_x\": {\"color\": \"#2a3f5f\"}, \"error_y\": {\"color\": \"#2a3f5f\"}, \"marker\": {\"line\": {\"color\": \"#E5ECF6\", \"width\": 0.5}}, \"type\": \"bar\"}], \"barpolar\": [{\"marker\": {\"line\": {\"color\": \"#E5ECF6\", \"width\": 0.5}}, \"type\": \"barpolar\"}], \"carpet\": [{\"aaxis\": {\"endlinecolor\": \"#2a3f5f\", \"gridcolor\": \"white\", \"linecolor\": \"white\", \"minorgridcolor\": \"white\", \"startlinecolor\": \"#2a3f5f\"}, \"baxis\": {\"endlinecolor\": \"#2a3f5f\", \"gridcolor\": \"white\", \"linecolor\": \"white\", \"minorgridcolor\": \"white\", \"startlinecolor\": \"#2a3f5f\"}, \"type\": \"carpet\"}], \"choropleth\": [{\"colorbar\": {\"outlinewidth\": 0, \"ticks\": \"\"}, \"type\": \"choropleth\"}], \"contour\": [{\"colorbar\": {\"outlinewidth\": 0, \"ticks\": \"\"}, \"colorscale\": [[0.0, \"#0d0887\"], [0.1111111111111111, \"#46039f\"], [0.2222222222222222, \"#7201a8\"], [0.3333333333333333, \"#9c179e\"], [0.4444444444444444, \"#bd3786\"], [0.5555555555555556, \"#d8576b\"], [0.6666666666666666, \"#ed7953\"], [0.7777777777777778, \"#fb9f3a\"], [0.8888888888888888, \"#fdca26\"], [1.0, \"#f0f921\"]], \"type\": \"contour\"}], \"contourcarpet\": [{\"colorbar\": {\"outlinewidth\": 0, \"ticks\": \"\"}, \"type\": \"contourcarpet\"}], \"heatmap\": [{\"colorbar\": {\"outlinewidth\": 0, \"ticks\": \"\"}, \"colorscale\": [[0.0, \"#0d0887\"], [0.1111111111111111, \"#46039f\"], [0.2222222222222222, \"#7201a8\"], [0.3333333333333333, \"#9c179e\"], [0.4444444444444444, \"#bd3786\"], [0.5555555555555556, \"#d8576b\"], [0.6666666666666666, \"#ed7953\"], [0.7777777777777778, \"#fb9f3a\"], [0.8888888888888888, \"#fdca26\"], [1.0, \"#f0f921\"]], \"type\": \"heatmap\"}], \"heatmapgl\": [{\"colorbar\": {\"outlinewidth\": 0, \"ticks\": \"\"}, \"colorscale\": [[0.0, \"#0d0887\"], [0.1111111111111111, \"#46039f\"], [0.2222222222222222, \"#7201a8\"], [0.3333333333333333, \"#9c179e\"], [0.4444444444444444, \"#bd3786\"], [0.5555555555555556, \"#d8576b\"], [0.6666666666666666, \"#ed7953\"], [0.7777777777777778, \"#fb9f3a\"], [0.8888888888888888, \"#fdca26\"], [1.0, \"#f0f921\"]], \"type\": \"heatmapgl\"}], \"histogram\": [{\"marker\": {\"colorbar\": {\"outlinewidth\": 0, \"ticks\": \"\"}}, \"type\": \"histogram\"}], \"histogram2d\": [{\"colorbar\": {\"outlinewidth\": 0, \"ticks\": \"\"}, \"colorscale\": [[0.0, \"#0d0887\"], [0.1111111111111111, \"#46039f\"], [0.2222222222222222, \"#7201a8\"], [0.3333333333333333, \"#9c179e\"], [0.4444444444444444, \"#bd3786\"], [0.5555555555555556, \"#d8576b\"], [0.6666666666666666, \"#ed7953\"], [0.7777777777777778, \"#fb9f3a\"], [0.8888888888888888, \"#fdca26\"], [1.0, \"#f0f921\"]], \"type\": \"histogram2d\"}], \"histogram2dcontour\": [{\"colorbar\": {\"outlinewidth\": 0, \"ticks\": \"\"}, \"colorscale\": [[0.0, \"#0d0887\"], [0.1111111111111111, \"#46039f\"], [0.2222222222222222, \"#7201a8\"], [0.3333333333333333, \"#9c179e\"], [0.4444444444444444, \"#bd3786\"], [0.5555555555555556, \"#d8576b\"], [0.6666666666666666, \"#ed7953\"], [0.7777777777777778, \"#fb9f3a\"], [0.8888888888888888, \"#fdca26\"], [1.0, \"#f0f921\"]], \"type\": \"histogram2dcontour\"}], \"mesh3d\": [{\"colorbar\": {\"outlinewidth\": 0, \"ticks\": \"\"}, \"type\": \"mesh3d\"}], \"parcoords\": [{\"line\": {\"colorbar\": {\"outlinewidth\": 0, \"ticks\": \"\"}}, \"type\": \"parcoords\"}], \"pie\": [{\"automargin\": true, \"type\": \"pie\"}], \"scatter\": [{\"marker\": {\"colorbar\": {\"outlinewidth\": 0, \"ticks\": \"\"}}, \"type\": \"scatter\"}], \"scatter3d\": [{\"line\": {\"colorbar\": {\"outlinewidth\": 0, \"ticks\": \"\"}}, \"marker\": {\"colorbar\": {\"outlinewidth\": 0, \"ticks\": \"\"}}, \"type\": \"scatter3d\"}], \"scattercarpet\": [{\"marker\": {\"colorbar\": {\"outlinewidth\": 0, \"ticks\": \"\"}}, \"type\": \"scattercarpet\"}], \"scattergeo\": [{\"marker\": {\"colorbar\": {\"outlinewidth\": 0, \"ticks\": \"\"}}, \"type\": \"scattergeo\"}], \"scattergl\": [{\"marker\": {\"colorbar\": {\"outlinewidth\": 0, \"ticks\": \"\"}}, \"type\": \"scattergl\"}], \"scattermapbox\": [{\"marker\": {\"colorbar\": {\"outlinewidth\": 0, \"ticks\": \"\"}}, \"type\": \"scattermapbox\"}], \"scatterpolar\": [{\"marker\": {\"colorbar\": {\"outlinewidth\": 0, \"ticks\": \"\"}}, \"type\": \"scatterpolar\"}], \"scatterpolargl\": [{\"marker\": {\"colorbar\": {\"outlinewidth\": 0, \"ticks\": \"\"}}, \"type\": \"scatterpolargl\"}], \"scatterternary\": [{\"marker\": {\"colorbar\": {\"outlinewidth\": 0, \"ticks\": \"\"}}, \"type\": \"scatterternary\"}], \"surface\": [{\"colorbar\": {\"outlinewidth\": 0, \"ticks\": \"\"}, \"colorscale\": [[0.0, \"#0d0887\"], [0.1111111111111111, \"#46039f\"], [0.2222222222222222, \"#7201a8\"], [0.3333333333333333, \"#9c179e\"], [0.4444444444444444, \"#bd3786\"], [0.5555555555555556, \"#d8576b\"], [0.6666666666666666, \"#ed7953\"], [0.7777777777777778, \"#fb9f3a\"], [0.8888888888888888, \"#fdca26\"], [1.0, \"#f0f921\"]], \"type\": \"surface\"}], \"table\": [{\"cells\": {\"fill\": {\"color\": \"#EBF0F8\"}, \"line\": {\"color\": \"white\"}}, \"header\": {\"fill\": {\"color\": \"#C8D4E3\"}, \"line\": {\"color\": \"white\"}}, \"type\": \"table\"}]}, \"layout\": {\"annotationdefaults\": {\"arrowcolor\": \"#2a3f5f\", \"arrowhead\": 0, \"arrowwidth\": 1}, \"coloraxis\": {\"colorbar\": {\"outlinewidth\": 0, \"ticks\": \"\"}}, \"colorscale\": {\"diverging\": [[0, \"#8e0152\"], [0.1, \"#c51b7d\"], [0.2, \"#de77ae\"], [0.3, \"#f1b6da\"], [0.4, \"#fde0ef\"], [0.5, \"#f7f7f7\"], [0.6, \"#e6f5d0\"], [0.7, \"#b8e186\"], [0.8, \"#7fbc41\"], [0.9, \"#4d9221\"], [1, \"#276419\"]], \"sequential\": [[0.0, \"#0d0887\"], [0.1111111111111111, \"#46039f\"], [0.2222222222222222, \"#7201a8\"], [0.3333333333333333, \"#9c179e\"], [0.4444444444444444, \"#bd3786\"], [0.5555555555555556, \"#d8576b\"], [0.6666666666666666, \"#ed7953\"], [0.7777777777777778, \"#fb9f3a\"], [0.8888888888888888, \"#fdca26\"], [1.0, \"#f0f921\"]], \"sequentialminus\": [[0.0, \"#0d0887\"], [0.1111111111111111, \"#46039f\"], [0.2222222222222222, \"#7201a8\"], [0.3333333333333333, \"#9c179e\"], [0.4444444444444444, \"#bd3786\"], [0.5555555555555556, \"#d8576b\"], [0.6666666666666666, \"#ed7953\"], [0.7777777777777778, \"#fb9f3a\"], [0.8888888888888888, \"#fdca26\"], [1.0, \"#f0f921\"]]}, \"colorway\": [\"#636efa\", \"#EF553B\", \"#00cc96\", \"#ab63fa\", \"#FFA15A\", \"#19d3f3\", \"#FF6692\", \"#B6E880\", \"#FF97FF\", \"#FECB52\"], \"font\": {\"color\": \"#2a3f5f\"}, \"geo\": {\"bgcolor\": \"white\", \"lakecolor\": \"white\", \"landcolor\": \"#E5ECF6\", \"showlakes\": true, \"showland\": true, \"subunitcolor\": \"white\"}, \"hoverlabel\": {\"align\": \"left\"}, \"hovermode\": \"closest\", \"mapbox\": {\"style\": \"light\"}, \"paper_bgcolor\": \"white\", \"plot_bgcolor\": \"#E5ECF6\", \"polar\": {\"angularaxis\": {\"gridcolor\": \"white\", \"linecolor\": \"white\", \"ticks\": \"\"}, \"bgcolor\": \"#E5ECF6\", \"radialaxis\": {\"gridcolor\": \"white\", \"linecolor\": \"white\", \"ticks\": \"\"}}, \"scene\": {\"xaxis\": {\"backgroundcolor\": \"#E5ECF6\", \"gridcolor\": \"white\", \"gridwidth\": 2, \"linecolor\": \"white\", \"showbackground\": true, \"ticks\": \"\", \"zerolinecolor\": \"white\"}, \"yaxis\": {\"backgroundcolor\": \"#E5ECF6\", \"gridcolor\": \"white\", \"gridwidth\": 2, \"linecolor\": \"white\", \"showbackground\": true, \"ticks\": \"\", \"zerolinecolor\": \"white\"}, \"zaxis\": {\"backgroundcolor\": \"#E5ECF6\", \"gridcolor\": \"white\", \"gridwidth\": 2, \"linecolor\": \"white\", \"showbackground\": true, \"ticks\": \"\", \"zerolinecolor\": \"white\"}}, \"shapedefaults\": {\"line\": {\"color\": \"#2a3f5f\"}}, \"ternary\": {\"aaxis\": {\"gridcolor\": \"white\", \"linecolor\": \"white\", \"ticks\": \"\"}, \"baxis\": {\"gridcolor\": \"white\", \"linecolor\": \"white\", \"ticks\": \"\"}, \"bgcolor\": \"#E5ECF6\", \"caxis\": {\"gridcolor\": \"white\", \"linecolor\": \"white\", \"ticks\": \"\"}}, \"title\": {\"x\": 0.05}, \"xaxis\": {\"automargin\": true, \"gridcolor\": \"white\", \"linecolor\": \"white\", \"ticks\": \"\", \"title\": {\"standoff\": 15}, \"zerolinecolor\": \"white\", \"zerolinewidth\": 2}, \"yaxis\": {\"automargin\": true, \"gridcolor\": \"white\", \"linecolor\": \"white\", \"ticks\": \"\", \"title\": {\"standoff\": 15}, \"zerolinecolor\": \"white\", \"zerolinewidth\": 2}}}, \"xaxis\": {\"anchor\": \"y\", \"domain\": [0.0, 1.0], \"title\": {\"text\": \"proportion\"}}, \"yaxis\": {\"anchor\": \"x\", \"domain\": [0.0, 1.0], \"title\": {\"text\": \"country\"}}},\n",
              "                        {\"responsive\": true}\n",
              "                    ).then(function(){\n",
              "                            \n",
              "var gd = document.getElementById('7299e3ec-9f0a-4304-a65c-e5e79b30f9d6');\n",
              "var x = new MutationObserver(function (mutations, observer) {{\n",
              "        var display = window.getComputedStyle(gd).display;\n",
              "        if (!display || display === 'none') {{\n",
              "            console.log([gd, 'removed!']);\n",
              "            Plotly.purge(gd);\n",
              "            observer.disconnect();\n",
              "        }}\n",
              "}});\n",
              "\n",
              "// Listen for the removal of the full notebook cells\n",
              "var notebookContainer = gd.closest('#notebook-container');\n",
              "if (notebookContainer) {{\n",
              "    x.observe(notebookContainer, {childList: true});\n",
              "}}\n",
              "\n",
              "// Listen for the clearing of the current output cell\n",
              "var outputEl = gd.closest('.output');\n",
              "if (outputEl) {{\n",
              "    x.observe(outputEl, {childList: true});\n",
              "}}\n",
              "\n",
              "                        })\n",
              "                };\n",
              "                \n",
              "            </script>\n",
              "        </div>\n",
              "</body>\n",
              "</html>"
            ]
          },
          "metadata": {}
        }
      ]
    },
    {
      "cell_type": "code",
      "metadata": {
        "id": "j3OWBpsaVpfx",
        "colab": {
          "base_uri": "https://localhost:8080/",
          "height": 542
        },
        "outputId": "02f9eb7c-1d15-4e4a-e63b-7579de1199b1"
      },
      "source": [
        "bar_fig= px.bar(df_map.loc[df_map['country']=='Lithuania'],x='year', y='suicides_no', color='sex', title='Absolut Bar depend on sex',hover_data=['age'])\n",
        "bar_fig.show()"
      ],
      "id": "j3OWBpsaVpfx",
      "execution_count": 137,
      "outputs": [
        {
          "output_type": "display_data",
          "data": {
            "text/html": [
              "<html>\n",
              "<head><meta charset=\"utf-8\" /></head>\n",
              "<body>\n",
              "    <div>\n",
              "            <script src=\"https://cdnjs.cloudflare.com/ajax/libs/mathjax/2.7.5/MathJax.js?config=TeX-AMS-MML_SVG\"></script><script type=\"text/javascript\">if (window.MathJax) {MathJax.Hub.Config({SVG: {font: \"STIX-Web\"}});}</script>\n",
              "                <script type=\"text/javascript\">window.PlotlyConfig = {MathJaxConfig: 'local'};</script>\n",
              "        <script src=\"https://cdn.plot.ly/plotly-latest.min.js\"></script>    \n",
              "            <div id=\"bc5dbb77-2e47-48d3-bb02-d38a779b1458\" class=\"plotly-graph-div\" style=\"height:525px; width:100%;\"></div>\n",
              "            <script type=\"text/javascript\">\n",
              "                \n",
              "                    window.PLOTLYENV=window.PLOTLYENV || {};\n",
              "                    \n",
              "                if (document.getElementById(\"bc5dbb77-2e47-48d3-bb02-d38a779b1458\")) {\n",
              "                    Plotly.newPlot(\n",
              "                        'bc5dbb77-2e47-48d3-bb02-d38a779b1458',\n",
              "                        [{\"alignmentgroup\": \"True\", \"customdata\": [[\"15-24 years\"], [\"25-34 years\"], [\"35-54 years\"], [\"5-14 years\"], [\"55-74 years\"], [\"75+ years\"], [\"15-24 years\"], [\"25-34 years\"], [\"35-54 years\"], [\"5-14 years\"], [\"55-74 years\"], [\"75+ years\"], [\"15-24 years\"], [\"25-34 years\"], [\"35-54 years\"], [\"5-14 years\"], [\"55-74 years\"], [\"75+ years\"], [\"15-24 years\"], [\"25-34 years\"], [\"35-54 years\"], [\"5-14 years\"], [\"55-74 years\"], [\"75+ years\"], [\"15-24 years\"], [\"25-34 years\"], [\"35-54 years\"], [\"5-14 years\"], [\"55-74 years\"], [\"75+ years\"], [\"15-24 years\"], [\"25-34 years\"], [\"35-54 years\"], [\"5-14 years\"], [\"55-74 years\"], [\"75+ years\"], [\"15-24 years\"], [\"25-34 years\"], [\"35-54 years\"], [\"5-14 years\"], [\"55-74 years\"], [\"75+ years\"], [\"15-24 years\"], [\"25-34 years\"], [\"35-54 years\"], [\"5-14 years\"], [\"55-74 years\"], [\"75+ years\"], [\"15-24 years\"], [\"25-34 years\"], [\"35-54 years\"], [\"5-14 years\"], [\"55-74 years\"], [\"75+ years\"], [\"15-24 years\"], [\"25-34 years\"], [\"35-54 years\"], [\"5-14 years\"], [\"55-74 years\"], [\"75+ years\"], [\"15-24 years\"], [\"25-34 years\"], [\"35-54 years\"], [\"5-14 years\"], [\"55-74 years\"], [\"75+ years\"], [\"15-24 years\"], [\"25-34 years\"], [\"35-54 years\"], [\"5-14 years\"], [\"55-74 years\"], [\"75+ years\"], [\"15-24 years\"], [\"25-34 years\"], [\"35-54 years\"], [\"5-14 years\"], [\"55-74 years\"], [\"75+ years\"], [\"15-24 years\"], [\"25-34 years\"], [\"35-54 years\"], [\"5-14 years\"], [\"55-74 years\"], [\"75+ years\"], [\"15-24 years\"], [\"25-34 years\"], [\"35-54 years\"], [\"5-14 years\"], [\"55-74 years\"], [\"75+ years\"], [\"15-24 years\"], [\"25-34 years\"], [\"35-54 years\"], [\"5-14 years\"], [\"55-74 years\"], [\"75+ years\"], [\"15-24 years\"], [\"25-34 years\"], [\"35-54 years\"], [\"5-14 years\"], [\"55-74 years\"], [\"75+ years\"], [\"15-24 years\"], [\"25-34 years\"], [\"35-54 years\"], [\"5-14 years\"], [\"55-74 years\"], [\"75+ years\"], [\"15-24 years\"], [\"25-34 years\"], [\"35-54 years\"], [\"5-14 years\"], [\"55-74 years\"], [\"75+ years\"], [\"15-24 years\"], [\"25-34 years\"], [\"35-54 years\"], [\"5-14 years\"], [\"55-74 years\"], [\"75+ years\"], [\"15-24 years\"], [\"25-34 years\"], [\"35-54 years\"], [\"5-14 years\"], [\"55-74 years\"], [\"75+ years\"], [\"15-24 years\"], [\"25-34 years\"], [\"35-54 years\"], [\"5-14 years\"], [\"55-74 years\"], [\"75+ years\"], [\"15-24 years\"], [\"25-34 years\"], [\"35-54 years\"], [\"5-14 years\"], [\"55-74 years\"], [\"75+ years\"], [\"15-24 years\"], [\"25-34 years\"], [\"35-54 years\"], [\"5-14 years\"], [\"55-74 years\"], [\"75+ years\"], [\"15-24 years\"], [\"25-34 years\"], [\"35-54 years\"], [\"5-14 years\"], [\"55-74 years\"], [\"75+ years\"], [\"15-24 years\"], [\"25-34 years\"], [\"35-54 years\"], [\"5-14 years\"], [\"55-74 years\"], [\"75+ years\"], [\"15-24 years\"], [\"25-34 years\"], [\"35-54 years\"], [\"5-14 years\"], [\"55-74 years\"], [\"75+ years\"], [\"15-24 years\"], [\"25-34 years\"], [\"35-54 years\"], [\"5-14 years\"], [\"55-74 years\"], [\"75+ years\"], [\"15-24 years\"], [\"25-34 years\"], [\"35-54 years\"], [\"5-14 years\"], [\"55-74 years\"], [\"75+ years\"], [\"15-24 years\"], [\"25-34 years\"], [\"35-54 years\"], [\"5-14 years\"], [\"55-74 years\"], [\"75+ years\"], [\"15-24 years\"], [\"25-34 years\"], [\"35-54 years\"], [\"5-14 years\"], [\"55-74 years\"], [\"75+ years\"], [\"15-24 years\"], [\"25-34 years\"], [\"35-54 years\"], [\"5-14 years\"], [\"55-74 years\"], [\"75+ years\"], [\"15-24 years\"], [\"25-34 years\"], [\"35-54 years\"], [\"5-14 years\"], [\"55-74 years\"], [\"75+ years\"], [\"15-24 years\"], [\"25-34 years\"], [\"35-54 years\"], [\"5-14 years\"], [\"55-74 years\"], [\"75+ years\"], [\"15-24 years\"], [\"25-34 years\"], [\"35-54 years\"], [\"5-14 years\"], [\"55-74 years\"], [\"75+ years\"]], \"hoverlabel\": {\"namelength\": 0}, \"hovertemplate\": \"sex=female<br>year=%{x}<br>suicides_no=%{y}<br>age=%{customdata[0]}\", \"legendgroup\": \"sex=female\", \"marker\": {\"color\": \"#636efa\"}, \"name\": \"sex=female\", \"offsetgroup\": \"sex=female\", \"orientation\": \"v\", \"showlegend\": true, \"textposition\": \"auto\", \"type\": \"bar\", \"x\": [1981, 1981, 1981, 1981, 1981, 1981, 1982, 1982, 1982, 1982, 1982, 1982, 1983, 1983, 1983, 1983, 1983, 1983, 1985, 1985, 1985, 1985, 1985, 1985, 1986, 1986, 1986, 1986, 1986, 1986, 1987, 1987, 1987, 1987, 1987, 1987, 1988, 1988, 1988, 1988, 1988, 1988, 1989, 1989, 1989, 1989, 1989, 1989, 1990, 1990, 1990, 1990, 1990, 1990, 1991, 1991, 1991, 1991, 1991, 1991, 1992, 1992, 1992, 1992, 1992, 1992, 1993, 1993, 1993, 1993, 1993, 1993, 1994, 1994, 1994, 1994, 1994, 1994, 1995, 1995, 1995, 1995, 1995, 1995, 1996, 1996, 1996, 1996, 1996, 1996, 1997, 1997, 1997, 1997, 1997, 1997, 1998, 1998, 1998, 1998, 1998, 1998, 1999, 1999, 1999, 1999, 1999, 1999, 2000, 2000, 2000, 2000, 2000, 2000, 2001, 2001, 2001, 2001, 2001, 2001, 2002, 2002, 2002, 2002, 2002, 2002, 2003, 2003, 2003, 2003, 2003, 2003, 2004, 2004, 2004, 2004, 2004, 2004, 2005, 2005, 2005, 2005, 2005, 2005, 2006, 2006, 2006, 2006, 2006, 2006, 2007, 2007, 2007, 2007, 2007, 2007, 2008, 2008, 2008, 2008, 2008, 2008, 2009, 2009, 2009, 2009, 2009, 2009, 2010, 2010, 2010, 2010, 2010, 2010, 2011, 2011, 2011, 2011, 2011, 2011, 2012, 2012, 2012, 2012, 2012, 2012, 2013, 2013, 2013, 2013, 2013, 2013, 2014, 2014, 2014, 2014, 2014, 2014, 2015, 2015, 2015, 2015, 2015, 2015, 2016, 2016, 2016, 2016, 2016, 2016], \"xaxis\": \"x\", \"y\": [13.0, 24.0, 80.0, 0.0, 56.0, 22.0, 18.0, 27.0, 92.0, 0.0, 65.0, 23.0, null, null, null, null, null, null, 17.0, 47.0, 90.0, 0.0, 59.0, 29.0, 11.0, 24.0, 78.0, 2.0, 54.0, 23.0, 23.0, 21.0, 63.0, 3.0, 72.0, 36.0, 13.0, 27.0, 81.0, 0.0, 75.0, 38.0, 20.0, 22.0, 64.0, 1.0, 54.0, 28.0, 11.0, 22.0, 60.0, 1.0, 66.0, 30.0, 22.0, 24.0, 81.0, 1.0, 69.0, 24.0, 19.0, 24.0, 80.0, 2.0, 113.0, 33.0, 18.0, 31.0, 102.0, 1.0, 99.0, 22.0, 32.0, 24.0, 93.0, 1.0, 85.0, 27.0, 20.0, 33.0, 113.0, 2.0, 101.0, 37.0, 20.0, 27.0, 129.0, 1.0, 118.0, 39.0, 17.0, 31.0, 109.0, 4.0, 94.0, 29.0, 22.0, 18.0, 107.0, 1.0, 80.0, 40.0, 24.0, 22.0, 97.0, 1.0, 84.0, 37.0, 25.0, 31.0, 121.0, 0.0, 101.0, 36.0, 18.0, 19.0, 113.0, 1.0, 87.0, 40.0, 15.0, 28.0, 74.0, 1.0, 85.0, 39.0, 11.0, 24.0, 111.0, 2.0, 72.0, 36.0, 19.0, 24.0, 98.0, 1.0, 73.0, 41.0, 11.0, 19.0, 84.0, 1.0, 86.0, 34.0, 10.0, 19.0, 70.0, 1.0, 59.0, 37.0, 10.0, 17.0, 60.0, 4.0, 46.0, 40.0, 17.0, 15.0, 65.0, 0.0, 60.0, 36.0, 16.0, 15.0, 65.0, 2.0, 48.0, 40.0, 14.0, 11.0, 72.0, 1.0, 50.0, 41.0, 10.0, 17.0, 67.0, 1.0, 68.0, 38.0, 8.0, 10.0, 74.0, 0.0, 45.0, 37.0, 17.0, 22.0, 75.0, 3.0, 41.0, 40.0, 12.0, 11.0, 43.0, 3.0, 47.0, 45.0, 10.0, 17.0, 46.0, 3.0, 55.0, 38.0, 6.0, 8.0, 41.0, 0.0, 45.0, 29.0], \"yaxis\": \"y\"}, {\"alignmentgroup\": \"True\", \"customdata\": [[\"15-24 years\"], [\"25-34 years\"], [\"35-54 years\"], [\"5-14 years\"], [\"55-74 years\"], [\"75+ years\"], [\"15-24 years\"], [\"25-34 years\"], [\"35-54 years\"], [\"5-14 years\"], [\"55-74 years\"], [\"75+ years\"], [\"15-24 years\"], [\"25-34 years\"], [\"35-54 years\"], [\"5-14 years\"], [\"55-74 years\"], [\"75+ years\"], [\"15-24 years\"], [\"25-34 years\"], [\"35-54 years\"], [\"5-14 years\"], [\"55-74 years\"], [\"75+ years\"], [\"15-24 years\"], [\"25-34 years\"], [\"35-54 years\"], [\"5-14 years\"], [\"55-74 years\"], [\"75+ years\"], [\"15-24 years\"], [\"25-34 years\"], [\"35-54 years\"], [\"5-14 years\"], [\"55-74 years\"], [\"75+ years\"], [\"15-24 years\"], [\"25-34 years\"], [\"35-54 years\"], [\"5-14 years\"], [\"55-74 years\"], [\"75+ years\"], [\"15-24 years\"], [\"25-34 years\"], [\"35-54 years\"], [\"5-14 years\"], [\"55-74 years\"], [\"75+ years\"], [\"15-24 years\"], [\"25-34 years\"], [\"35-54 years\"], [\"5-14 years\"], [\"55-74 years\"], [\"75+ years\"], [\"15-24 years\"], [\"25-34 years\"], [\"35-54 years\"], [\"5-14 years\"], [\"55-74 years\"], [\"75+ years\"], [\"15-24 years\"], [\"25-34 years\"], [\"35-54 years\"], [\"5-14 years\"], [\"55-74 years\"], [\"75+ years\"], [\"15-24 years\"], [\"25-34 years\"], [\"35-54 years\"], [\"5-14 years\"], [\"55-74 years\"], [\"75+ years\"], [\"15-24 years\"], [\"25-34 years\"], [\"35-54 years\"], [\"5-14 years\"], [\"55-74 years\"], [\"75+ years\"], [\"15-24 years\"], [\"25-34 years\"], [\"35-54 years\"], [\"5-14 years\"], [\"55-74 years\"], [\"75+ years\"], [\"15-24 years\"], [\"25-34 years\"], [\"35-54 years\"], [\"5-14 years\"], [\"55-74 years\"], [\"75+ years\"], [\"15-24 years\"], [\"25-34 years\"], [\"35-54 years\"], [\"5-14 years\"], [\"55-74 years\"], [\"75+ years\"], [\"15-24 years\"], [\"25-34 years\"], [\"35-54 years\"], [\"5-14 years\"], [\"55-74 years\"], [\"75+ years\"], [\"15-24 years\"], [\"25-34 years\"], [\"35-54 years\"], [\"5-14 years\"], [\"55-74 years\"], [\"75+ years\"], [\"15-24 years\"], [\"25-34 years\"], [\"35-54 years\"], [\"5-14 years\"], [\"55-74 years\"], [\"75+ years\"], [\"15-24 years\"], [\"25-34 years\"], [\"35-54 years\"], [\"5-14 years\"], [\"55-74 years\"], [\"75+ years\"], [\"15-24 years\"], [\"25-34 years\"], [\"35-54 years\"], [\"5-14 years\"], [\"55-74 years\"], [\"75+ years\"], [\"15-24 years\"], [\"25-34 years\"], [\"35-54 years\"], [\"5-14 years\"], [\"55-74 years\"], [\"75+ years\"], [\"15-24 years\"], [\"25-34 years\"], [\"35-54 years\"], [\"5-14 years\"], [\"55-74 years\"], [\"75+ years\"], [\"15-24 years\"], [\"25-34 years\"], [\"35-54 years\"], [\"5-14 years\"], [\"55-74 years\"], [\"75+ years\"], [\"15-24 years\"], [\"25-34 years\"], [\"35-54 years\"], [\"5-14 years\"], [\"55-74 years\"], [\"75+ years\"], [\"15-24 years\"], [\"25-34 years\"], [\"35-54 years\"], [\"5-14 years\"], [\"55-74 years\"], [\"75+ years\"], [\"15-24 years\"], [\"25-34 years\"], [\"35-54 years\"], [\"5-14 years\"], [\"55-74 years\"], [\"75+ years\"], [\"15-24 years\"], [\"25-34 years\"], [\"35-54 years\"], [\"5-14 years\"], [\"55-74 years\"], [\"75+ years\"], [\"15-24 years\"], [\"25-34 years\"], [\"35-54 years\"], [\"5-14 years\"], [\"55-74 years\"], [\"75+ years\"], [\"15-24 years\"], [\"25-34 years\"], [\"35-54 years\"], [\"5-14 years\"], [\"55-74 years\"], [\"75+ years\"], [\"15-24 years\"], [\"25-34 years\"], [\"35-54 years\"], [\"5-14 years\"], [\"55-74 years\"], [\"75+ years\"], [\"15-24 years\"], [\"25-34 years\"], [\"35-54 years\"], [\"5-14 years\"], [\"55-74 years\"], [\"75+ years\"], [\"15-24 years\"], [\"25-34 years\"], [\"35-54 years\"], [\"5-14 years\"], [\"55-74 years\"], [\"75+ years\"], [\"15-24 years\"], [\"25-34 years\"], [\"35-54 years\"], [\"5-14 years\"], [\"55-74 years\"], [\"75+ years\"], [\"15-24 years\"], [\"25-34 years\"], [\"35-54 years\"], [\"5-14 years\"], [\"55-74 years\"], [\"75+ years\"]], \"hoverlabel\": {\"namelength\": 0}, \"hovertemplate\": \"sex=male<br>year=%{x}<br>suicides_no=%{y}<br>age=%{customdata[0]}\", \"legendgroup\": \"sex=male\", \"marker\": {\"color\": \"#EF553B\"}, \"name\": \"sex=male\", \"offsetgroup\": \"sex=male\", \"orientation\": \"v\", \"showlegend\": true, \"textposition\": \"auto\", \"type\": \"bar\", \"x\": [1981, 1981, 1981, 1981, 1981, 1981, 1982, 1982, 1982, 1982, 1982, 1982, 1983, 1983, 1983, 1983, 1983, 1983, 1985, 1985, 1985, 1985, 1985, 1985, 1986, 1986, 1986, 1986, 1986, 1986, 1987, 1987, 1987, 1987, 1987, 1987, 1988, 1988, 1988, 1988, 1988, 1988, 1989, 1989, 1989, 1989, 1989, 1989, 1990, 1990, 1990, 1990, 1990, 1990, 1991, 1991, 1991, 1991, 1991, 1991, 1992, 1992, 1992, 1992, 1992, 1992, 1993, 1993, 1993, 1993, 1993, 1993, 1994, 1994, 1994, 1994, 1994, 1994, 1995, 1995, 1995, 1995, 1995, 1995, 1996, 1996, 1996, 1996, 1996, 1996, 1997, 1997, 1997, 1997, 1997, 1997, 1998, 1998, 1998, 1998, 1998, 1998, 1999, 1999, 1999, 1999, 1999, 1999, 2000, 2000, 2000, 2000, 2000, 2000, 2001, 2001, 2001, 2001, 2001, 2001, 2002, 2002, 2002, 2002, 2002, 2002, 2003, 2003, 2003, 2003, 2003, 2003, 2004, 2004, 2004, 2004, 2004, 2004, 2005, 2005, 2005, 2005, 2005, 2005, 2006, 2006, 2006, 2006, 2006, 2006, 2007, 2007, 2007, 2007, 2007, 2007, 2008, 2008, 2008, 2008, 2008, 2008, 2009, 2009, 2009, 2009, 2009, 2009, 2010, 2010, 2010, 2010, 2010, 2010, 2011, 2011, 2011, 2011, 2011, 2011, 2012, 2012, 2012, 2012, 2012, 2012, 2013, 2013, 2013, 2013, 2013, 2013, 2014, 2014, 2014, 2014, 2014, 2014, 2015, 2015, 2015, 2015, 2015, 2015, 2016, 2016, 2016, 2016, 2016, 2016], \"xaxis\": \"x\", \"y\": [100.0, 214.0, 442.0, 5.0, 160.0, 39.0, 103.0, 190.0, 430.0, 10.0, 159.0, 56.0, null, null, null, null, null, null, 78.0, 214.0, 443.0, 3.0, 184.0, 44.0, 74.0, 121.0, 334.0, 4.0, 138.0, 47.0, 65.0, 150.0, 381.0, 5.0, 185.0, 46.0, 69.0, 147.0, 350.0, 3.0, 132.0, 34.0, 63.0, 161.0, 386.0, 5.0, 157.0, 37.0, 51.0, 149.0, 359.0, 3.0, 183.0, 32.0, 77.0, 185.0, 403.0, 3.0, 219.0, 33.0, 83.0, 173.0, 477.0, 4.0, 243.0, 41.0, 126.0, 217.0, 575.0, 7.0, 312.0, 50.0, 127.0, 263.0, 658.0, 7.0, 329.0, 54.0, 134.0, 226.0, 632.0, 4.0, 325.0, 67.0, 147.0, 196.0, 664.0, 5.0, 336.0, 40.0, 144.0, 231.0, 637.0, 3.0, 294.0, 39.0, 112.0, 222.0, 557.0, 2.0, 345.0, 47.0, 129.0, 224.0, 592.0, 8.0, 284.0, 48.0, 131.0, 221.0, 595.0, 6.0, 324.0, 40.0, 119.0, 190.0, 559.0, 8.0, 322.0, 57.0, 156.0, 204.0, 613.0, 4.0, 285.0, 47.0, 122.0, 205.0, 529.0, 2.0, 288.0, 53.0, 115.0, 193.0, 491.0, 6.0, 271.0, 48.0, 100.0, 172.0, 469.0, 2.0, 289.0, 52.0, 97.0, 96.0, 366.0, 5.0, 238.0, 51.0, 101.0, 146.0, 326.0, 4.0, 220.0, 51.0, 114.0, 155.0, 401.0, 2.0, 190.0, 56.0, 109.0, 116.0, 428.0, 3.0, 239.0, 57.0, 93.0, 110.0, 357.0, 1.0, 219.0, 49.0, 74.0, 124.0, 349.0, 1.0, 213.0, 56.0, 64.0, 117.0, 321.0, 3.0, 195.0, 53.0, 96.0, 121.0, 382.0, 2.0, 223.0, 63.0, 88.0, 94.0, 309.0, 2.0, 204.0, 72.0, 66.0, 101.0, 275.0, 2.0, 216.0, 67.0, 41.0, 96.0, 266.0, 4.0, 212.0, 78.0], \"yaxis\": \"y\"}],\n",
              "                        {\"barmode\": \"relative\", \"legend\": {\"tracegroupgap\": 0}, \"template\": {\"data\": {\"bar\": [{\"error_x\": {\"color\": \"#2a3f5f\"}, \"error_y\": {\"color\": \"#2a3f5f\"}, \"marker\": {\"line\": {\"color\": \"#E5ECF6\", \"width\": 0.5}}, \"type\": \"bar\"}], \"barpolar\": [{\"marker\": {\"line\": {\"color\": \"#E5ECF6\", \"width\": 0.5}}, \"type\": \"barpolar\"}], \"carpet\": [{\"aaxis\": {\"endlinecolor\": \"#2a3f5f\", \"gridcolor\": \"white\", \"linecolor\": \"white\", \"minorgridcolor\": \"white\", \"startlinecolor\": \"#2a3f5f\"}, \"baxis\": {\"endlinecolor\": \"#2a3f5f\", \"gridcolor\": \"white\", \"linecolor\": \"white\", \"minorgridcolor\": \"white\", \"startlinecolor\": \"#2a3f5f\"}, \"type\": \"carpet\"}], \"choropleth\": [{\"colorbar\": {\"outlinewidth\": 0, \"ticks\": \"\"}, \"type\": \"choropleth\"}], \"contour\": [{\"colorbar\": {\"outlinewidth\": 0, \"ticks\": \"\"}, \"colorscale\": [[0.0, \"#0d0887\"], [0.1111111111111111, \"#46039f\"], [0.2222222222222222, \"#7201a8\"], [0.3333333333333333, \"#9c179e\"], [0.4444444444444444, \"#bd3786\"], [0.5555555555555556, \"#d8576b\"], [0.6666666666666666, \"#ed7953\"], [0.7777777777777778, \"#fb9f3a\"], [0.8888888888888888, \"#fdca26\"], [1.0, \"#f0f921\"]], \"type\": \"contour\"}], \"contourcarpet\": [{\"colorbar\": {\"outlinewidth\": 0, \"ticks\": \"\"}, \"type\": \"contourcarpet\"}], \"heatmap\": [{\"colorbar\": {\"outlinewidth\": 0, \"ticks\": \"\"}, \"colorscale\": [[0.0, \"#0d0887\"], [0.1111111111111111, \"#46039f\"], [0.2222222222222222, \"#7201a8\"], [0.3333333333333333, \"#9c179e\"], [0.4444444444444444, \"#bd3786\"], [0.5555555555555556, \"#d8576b\"], [0.6666666666666666, \"#ed7953\"], [0.7777777777777778, \"#fb9f3a\"], [0.8888888888888888, \"#fdca26\"], [1.0, \"#f0f921\"]], \"type\": \"heatmap\"}], \"heatmapgl\": [{\"colorbar\": {\"outlinewidth\": 0, \"ticks\": \"\"}, \"colorscale\": [[0.0, \"#0d0887\"], [0.1111111111111111, \"#46039f\"], [0.2222222222222222, \"#7201a8\"], [0.3333333333333333, \"#9c179e\"], [0.4444444444444444, \"#bd3786\"], [0.5555555555555556, \"#d8576b\"], [0.6666666666666666, \"#ed7953\"], [0.7777777777777778, \"#fb9f3a\"], [0.8888888888888888, \"#fdca26\"], [1.0, \"#f0f921\"]], \"type\": \"heatmapgl\"}], \"histogram\": [{\"marker\": {\"colorbar\": {\"outlinewidth\": 0, \"ticks\": \"\"}}, \"type\": \"histogram\"}], \"histogram2d\": [{\"colorbar\": {\"outlinewidth\": 0, \"ticks\": \"\"}, \"colorscale\": [[0.0, \"#0d0887\"], [0.1111111111111111, \"#46039f\"], [0.2222222222222222, \"#7201a8\"], [0.3333333333333333, \"#9c179e\"], [0.4444444444444444, \"#bd3786\"], [0.5555555555555556, \"#d8576b\"], [0.6666666666666666, \"#ed7953\"], [0.7777777777777778, \"#fb9f3a\"], [0.8888888888888888, \"#fdca26\"], [1.0, \"#f0f921\"]], \"type\": \"histogram2d\"}], \"histogram2dcontour\": [{\"colorbar\": {\"outlinewidth\": 0, \"ticks\": \"\"}, \"colorscale\": [[0.0, \"#0d0887\"], [0.1111111111111111, \"#46039f\"], [0.2222222222222222, \"#7201a8\"], [0.3333333333333333, \"#9c179e\"], [0.4444444444444444, \"#bd3786\"], [0.5555555555555556, \"#d8576b\"], [0.6666666666666666, \"#ed7953\"], [0.7777777777777778, \"#fb9f3a\"], [0.8888888888888888, \"#fdca26\"], [1.0, \"#f0f921\"]], \"type\": \"histogram2dcontour\"}], \"mesh3d\": [{\"colorbar\": {\"outlinewidth\": 0, \"ticks\": \"\"}, \"type\": \"mesh3d\"}], \"parcoords\": [{\"line\": {\"colorbar\": {\"outlinewidth\": 0, \"ticks\": \"\"}}, \"type\": \"parcoords\"}], \"pie\": [{\"automargin\": true, \"type\": \"pie\"}], \"scatter\": [{\"marker\": {\"colorbar\": {\"outlinewidth\": 0, \"ticks\": \"\"}}, \"type\": \"scatter\"}], \"scatter3d\": [{\"line\": {\"colorbar\": {\"outlinewidth\": 0, \"ticks\": \"\"}}, \"marker\": {\"colorbar\": {\"outlinewidth\": 0, \"ticks\": \"\"}}, \"type\": \"scatter3d\"}], \"scattercarpet\": [{\"marker\": {\"colorbar\": {\"outlinewidth\": 0, \"ticks\": \"\"}}, \"type\": \"scattercarpet\"}], \"scattergeo\": [{\"marker\": {\"colorbar\": {\"outlinewidth\": 0, \"ticks\": \"\"}}, \"type\": \"scattergeo\"}], \"scattergl\": [{\"marker\": {\"colorbar\": {\"outlinewidth\": 0, \"ticks\": \"\"}}, \"type\": \"scattergl\"}], \"scattermapbox\": [{\"marker\": {\"colorbar\": {\"outlinewidth\": 0, \"ticks\": \"\"}}, \"type\": \"scattermapbox\"}], \"scatterpolar\": [{\"marker\": {\"colorbar\": {\"outlinewidth\": 0, \"ticks\": \"\"}}, \"type\": \"scatterpolar\"}], \"scatterpolargl\": [{\"marker\": {\"colorbar\": {\"outlinewidth\": 0, \"ticks\": \"\"}}, \"type\": \"scatterpolargl\"}], \"scatterternary\": [{\"marker\": {\"colorbar\": {\"outlinewidth\": 0, \"ticks\": \"\"}}, \"type\": \"scatterternary\"}], \"surface\": [{\"colorbar\": {\"outlinewidth\": 0, \"ticks\": \"\"}, \"colorscale\": [[0.0, \"#0d0887\"], [0.1111111111111111, \"#46039f\"], [0.2222222222222222, \"#7201a8\"], [0.3333333333333333, \"#9c179e\"], [0.4444444444444444, \"#bd3786\"], [0.5555555555555556, \"#d8576b\"], [0.6666666666666666, \"#ed7953\"], [0.7777777777777778, \"#fb9f3a\"], [0.8888888888888888, \"#fdca26\"], [1.0, \"#f0f921\"]], \"type\": \"surface\"}], \"table\": [{\"cells\": {\"fill\": {\"color\": \"#EBF0F8\"}, \"line\": {\"color\": \"white\"}}, \"header\": {\"fill\": {\"color\": \"#C8D4E3\"}, \"line\": {\"color\": \"white\"}}, \"type\": \"table\"}]}, \"layout\": {\"annotationdefaults\": {\"arrowcolor\": \"#2a3f5f\", \"arrowhead\": 0, \"arrowwidth\": 1}, \"coloraxis\": {\"colorbar\": {\"outlinewidth\": 0, \"ticks\": \"\"}}, \"colorscale\": {\"diverging\": [[0, \"#8e0152\"], [0.1, \"#c51b7d\"], [0.2, \"#de77ae\"], [0.3, \"#f1b6da\"], [0.4, \"#fde0ef\"], [0.5, \"#f7f7f7\"], [0.6, \"#e6f5d0\"], [0.7, \"#b8e186\"], [0.8, \"#7fbc41\"], [0.9, \"#4d9221\"], [1, \"#276419\"]], \"sequential\": [[0.0, \"#0d0887\"], [0.1111111111111111, \"#46039f\"], [0.2222222222222222, \"#7201a8\"], [0.3333333333333333, \"#9c179e\"], [0.4444444444444444, \"#bd3786\"], [0.5555555555555556, \"#d8576b\"], [0.6666666666666666, \"#ed7953\"], [0.7777777777777778, \"#fb9f3a\"], [0.8888888888888888, \"#fdca26\"], [1.0, \"#f0f921\"]], \"sequentialminus\": [[0.0, \"#0d0887\"], [0.1111111111111111, \"#46039f\"], [0.2222222222222222, \"#7201a8\"], [0.3333333333333333, \"#9c179e\"], [0.4444444444444444, \"#bd3786\"], [0.5555555555555556, \"#d8576b\"], [0.6666666666666666, \"#ed7953\"], [0.7777777777777778, \"#fb9f3a\"], [0.8888888888888888, \"#fdca26\"], [1.0, \"#f0f921\"]]}, \"colorway\": [\"#636efa\", \"#EF553B\", \"#00cc96\", \"#ab63fa\", \"#FFA15A\", \"#19d3f3\", \"#FF6692\", \"#B6E880\", \"#FF97FF\", \"#FECB52\"], \"font\": {\"color\": \"#2a3f5f\"}, \"geo\": {\"bgcolor\": \"white\", \"lakecolor\": \"white\", \"landcolor\": \"#E5ECF6\", \"showlakes\": true, \"showland\": true, \"subunitcolor\": \"white\"}, \"hoverlabel\": {\"align\": \"left\"}, \"hovermode\": \"closest\", \"mapbox\": {\"style\": \"light\"}, \"paper_bgcolor\": \"white\", \"plot_bgcolor\": \"#E5ECF6\", \"polar\": {\"angularaxis\": {\"gridcolor\": \"white\", \"linecolor\": \"white\", \"ticks\": \"\"}, \"bgcolor\": \"#E5ECF6\", \"radialaxis\": {\"gridcolor\": \"white\", \"linecolor\": \"white\", \"ticks\": \"\"}}, \"scene\": {\"xaxis\": {\"backgroundcolor\": \"#E5ECF6\", \"gridcolor\": \"white\", \"gridwidth\": 2, \"linecolor\": \"white\", \"showbackground\": true, \"ticks\": \"\", \"zerolinecolor\": \"white\"}, \"yaxis\": {\"backgroundcolor\": \"#E5ECF6\", \"gridcolor\": \"white\", \"gridwidth\": 2, \"linecolor\": \"white\", \"showbackground\": true, \"ticks\": \"\", \"zerolinecolor\": \"white\"}, \"zaxis\": {\"backgroundcolor\": \"#E5ECF6\", \"gridcolor\": \"white\", \"gridwidth\": 2, \"linecolor\": \"white\", \"showbackground\": true, \"ticks\": \"\", \"zerolinecolor\": \"white\"}}, \"shapedefaults\": {\"line\": {\"color\": \"#2a3f5f\"}}, \"ternary\": {\"aaxis\": {\"gridcolor\": \"white\", \"linecolor\": \"white\", \"ticks\": \"\"}, \"baxis\": {\"gridcolor\": \"white\", \"linecolor\": \"white\", \"ticks\": \"\"}, \"bgcolor\": \"#E5ECF6\", \"caxis\": {\"gridcolor\": \"white\", \"linecolor\": \"white\", \"ticks\": \"\"}}, \"title\": {\"x\": 0.05}, \"xaxis\": {\"automargin\": true, \"gridcolor\": \"white\", \"linecolor\": \"white\", \"ticks\": \"\", \"title\": {\"standoff\": 15}, \"zerolinecolor\": \"white\", \"zerolinewidth\": 2}, \"yaxis\": {\"automargin\": true, \"gridcolor\": \"white\", \"linecolor\": \"white\", \"ticks\": \"\", \"title\": {\"standoff\": 15}, \"zerolinecolor\": \"white\", \"zerolinewidth\": 2}}}, \"title\": {\"text\": \"Absolut Bar depend on sex\"}, \"xaxis\": {\"anchor\": \"y\", \"domain\": [0.0, 1.0], \"title\": {\"text\": \"year\"}}, \"yaxis\": {\"anchor\": \"x\", \"domain\": [0.0, 1.0], \"title\": {\"text\": \"suicides_no\"}}},\n",
              "                        {\"responsive\": true}\n",
              "                    ).then(function(){\n",
              "                            \n",
              "var gd = document.getElementById('bc5dbb77-2e47-48d3-bb02-d38a779b1458');\n",
              "var x = new MutationObserver(function (mutations, observer) {{\n",
              "        var display = window.getComputedStyle(gd).display;\n",
              "        if (!display || display === 'none') {{\n",
              "            console.log([gd, 'removed!']);\n",
              "            Plotly.purge(gd);\n",
              "            observer.disconnect();\n",
              "        }}\n",
              "}});\n",
              "\n",
              "// Listen for the removal of the full notebook cells\n",
              "var notebookContainer = gd.closest('#notebook-container');\n",
              "if (notebookContainer) {{\n",
              "    x.observe(notebookContainer, {childList: true});\n",
              "}}\n",
              "\n",
              "// Listen for the clearing of the current output cell\n",
              "var outputEl = gd.closest('.output');\n",
              "if (outputEl) {{\n",
              "    x.observe(outputEl, {childList: true});\n",
              "}}\n",
              "\n",
              "                        })\n",
              "                };\n",
              "                \n",
              "            </script>\n",
              "        </div>\n",
              "</body>\n",
              "</html>"
            ]
          },
          "metadata": {}
        }
      ]
    },
    {
      "cell_type": "code",
      "metadata": {
        "id": "EEyjIa-3UVRN"
      },
      "source": [
        ""
      ],
      "id": "EEyjIa-3UVRN",
      "execution_count": null,
      "outputs": []
    }
  ]
}